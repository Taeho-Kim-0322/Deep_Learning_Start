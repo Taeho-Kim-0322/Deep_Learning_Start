{
  "nbformat": 4,
  "nbformat_minor": 0,
  "metadata": {
    "colab": {
      "name": "실습_3_regularization.ipynb",
      "provenance": [],
      "collapsed_sections": [],
      "include_colab_link": true
    },
    "kernelspec": {
      "name": "python3",
      "display_name": "Python 3"
    },
    "accelerator": "GPU"
  },
  "cells": [
    {
      "cell_type": "markdown",
      "metadata": {
        "id": "view-in-github",
        "colab_type": "text"
      },
      "source": [
        "<a href=\"https://colab.research.google.com/github/Taeho-Kim-0322/Deep_Learning_Start/blob/master/%EC%8B%A4%EC%8A%B5_3_regularization.ipynb\" target=\"_parent\"><img src=\"https://colab.research.google.com/assets/colab-badge.svg\" alt=\"Open In Colab\"/></a>"
      ]
    },
    {
      "cell_type": "markdown",
      "metadata": {
        "id": "5_taevr_MPdB"
      },
      "source": [
        "# Regularization"
      ]
    },
    {
      "cell_type": "code",
      "metadata": {
        "id": "VHSOO82gLgzc"
      },
      "source": [
        "import tensorflow as tf \n",
        "\n",
        "from tensorflow.keras.layers import Dense, Flatten \n",
        "from tensorflow.keras.models import Sequential"
      ],
      "execution_count": null,
      "outputs": []
    },
    {
      "cell_type": "markdown",
      "metadata": {
        "id": "7zqoIK4yMBz7"
      },
      "source": [
        "아래 코드는 Learning curve를 그리는 기능을 수행합니다"
      ]
    },
    {
      "cell_type": "code",
      "metadata": {
        "id": "EfXpR2kdtPkO"
      },
      "source": [
        "import matplotlib.pyplot as plt\n",
        "\n",
        "def plot_history(histories):\n",
        "  plt.figure(figsize=(9,6))\n",
        "\n",
        "  for history in histories:\n",
        "    plt.plot(history.epoch, history.history['accuracy'], label='training')\n",
        "    plt.plot(history.epoch, history.history['val_accuracy'], label='validation')\n",
        "\n",
        "  plt.xlabel('Epochs')\n",
        "  plt.ylabel('ACC')\n",
        "  plt.legend()\n",
        "\n",
        "  plt.xlim([0,max(history.epoch)])"
      ],
      "execution_count": null,
      "outputs": []
    },
    {
      "cell_type": "markdown",
      "metadata": {
        "id": "3CpPRzPKCYh6"
      },
      "source": [
        "MNIST 데이터 로드\n"
      ]
    },
    {
      "cell_type": "code",
      "metadata": {
        "id": "USG4Wm4lCPzE",
        "outputId": "4dbe2dfb-db7b-4ca7-8561-690ea8434c23",
        "colab": {
          "base_uri": "https://localhost:8080/",
          "height": 53
        }
      },
      "source": [
        "# data load\n",
        "mnist = tf.keras.datasets.mnist\n",
        "(x_train, y_train), (x_test, y_test) = mnist.load_data()\n",
        "\n",
        "# 0~255의 픽셀 값을 0~1로 조정\n",
        "x_train, x_test = x_train / 255.0, x_test / 255.0\n",
        "\n",
        "# shape 조정\n",
        "x_train = x_train.reshape(60000,28,28,1)\n",
        "x_test = x_test.reshape(10000,28,28,1)\n",
        "\n",
        "# 정답 label을 길이10 벡터화\n",
        "y_train = tf.one_hot(y_train, depth=10)\n",
        "y_test = tf.one_hot(y_test, depth=10)\n",
        "\n",
        "# validation set 별도 구분\n",
        "x_train, x_val = x_train[:50000], x_train[50000:]\n",
        "y_train, y_val = y_train[:50000], y_train[50000:]"
      ],
      "execution_count": null,
      "outputs": [
        {
          "output_type": "stream",
          "text": [
            "Downloading data from https://storage.googleapis.com/tensorflow/tf-keras-datasets/mnist.npz\n",
            "11493376/11490434 [==============================] - 0s 0us/step\n"
          ],
          "name": "stdout"
        }
      ]
    },
    {
      "cell_type": "markdown",
      "metadata": {
        "id": "TEOFq6uym13R"
      },
      "source": [
        "# 실습 MISSION\n",
        "### 기준모델을 만들어 다양한 regularization 적용하기\n",
        "\n",
        "* hidden size 1024짜리 Dense레이어 5층 쌓기\n",
        "* Activation으로 ReLU 이용\n",
        "* 출력 Dense레이어에서 softmax 활용하여 10개 숫자 분류\n"
      ]
    },
    {
      "cell_type": "code",
      "metadata": {
        "id": "rMqQHhsECPrb",
        "outputId": "5291e94c-ba1d-4f38-fc72-deae3f594283",
        "colab": {
          "base_uri": "https://localhost:8080/",
          "height": 1000
        }
      },
      "source": [
        "model = tf.keras.models.Sequential([ \n",
        "  tf.keras.layers.Flatten(input_shape=(28, 28, 1)),\n",
        "  tf.keras.layers.Dense(1024, activation='relu'),\n",
        "  tf.keras.layers.Dense(1024, activation='relu'),\n",
        "  tf.keras.layers.Dense(1024, activation='relu'),\n",
        "  tf.keras.layers.Dense(1024, activation='relu'),\n",
        "  tf.keras.layers.Dense(1024, activation='relu'),\n",
        "  tf.keras.layers.Dense(10, activation='softmax')\n",
        "])\n",
        "\n",
        "model.compile(optimizer='adam',loss='categorical_crossentropy',metrics=['accuracy'])\n",
        "\n",
        "history = model.fit(x_train, y_train, batch_size=256, epochs=25, validation_data=(x_val, y_val), verbose=1)\n",
        "result = model.evaluate(x_test,  y_test, verbose=2)\n",
        "\n",
        "plot_history([history])"
      ],
      "execution_count": null,
      "outputs": [
        {
          "output_type": "stream",
          "text": [
            "Epoch 1/25\n",
            "196/196 [==============================] - 2s 12ms/step - loss: 0.2728 - accuracy: 0.9151 - val_loss: 0.1330 - val_accuracy: 0.9577\n",
            "Epoch 2/25\n",
            "196/196 [==============================] - 2s 11ms/step - loss: 0.0982 - accuracy: 0.9708 - val_loss: 0.0950 - val_accuracy: 0.9718\n",
            "Epoch 3/25\n",
            "196/196 [==============================] - 2s 10ms/step - loss: 0.0663 - accuracy: 0.9794 - val_loss: 0.1023 - val_accuracy: 0.9718\n",
            "Epoch 4/25\n",
            "196/196 [==============================] - 2s 10ms/step - loss: 0.0522 - accuracy: 0.9842 - val_loss: 0.0941 - val_accuracy: 0.9750\n",
            "Epoch 5/25\n",
            "196/196 [==============================] - 2s 11ms/step - loss: 0.0404 - accuracy: 0.9879 - val_loss: 0.0867 - val_accuracy: 0.9774\n",
            "Epoch 6/25\n",
            "196/196 [==============================] - 2s 10ms/step - loss: 0.0331 - accuracy: 0.9899 - val_loss: 0.0942 - val_accuracy: 0.9778\n",
            "Epoch 7/25\n",
            "196/196 [==============================] - 2s 10ms/step - loss: 0.0330 - accuracy: 0.9904 - val_loss: 0.0839 - val_accuracy: 0.9766\n",
            "Epoch 8/25\n",
            "196/196 [==============================] - 2s 10ms/step - loss: 0.0241 - accuracy: 0.9930 - val_loss: 0.1051 - val_accuracy: 0.9775\n",
            "Epoch 9/25\n",
            "196/196 [==============================] - 2s 11ms/step - loss: 0.0248 - accuracy: 0.9927 - val_loss: 0.1140 - val_accuracy: 0.9748\n",
            "Epoch 10/25\n",
            "196/196 [==============================] - 2s 10ms/step - loss: 0.0265 - accuracy: 0.9923 - val_loss: 0.0949 - val_accuracy: 0.9789\n",
            "Epoch 11/25\n",
            "196/196 [==============================] - 2s 10ms/step - loss: 0.0183 - accuracy: 0.9948 - val_loss: 0.1192 - val_accuracy: 0.9765\n",
            "Epoch 12/25\n",
            "196/196 [==============================] - 2s 10ms/step - loss: 0.0200 - accuracy: 0.9940 - val_loss: 0.0891 - val_accuracy: 0.9795\n",
            "Epoch 13/25\n",
            "196/196 [==============================] - 2s 11ms/step - loss: 0.0152 - accuracy: 0.9959 - val_loss: 0.1225 - val_accuracy: 0.9772\n",
            "Epoch 14/25\n",
            "196/196 [==============================] - 2s 11ms/step - loss: 0.0174 - accuracy: 0.9954 - val_loss: 0.1684 - val_accuracy: 0.9726\n",
            "Epoch 15/25\n",
            "196/196 [==============================] - 2s 10ms/step - loss: 0.0188 - accuracy: 0.9949 - val_loss: 0.1020 - val_accuracy: 0.9778\n",
            "Epoch 16/25\n",
            "196/196 [==============================] - 2s 10ms/step - loss: 0.0156 - accuracy: 0.9956 - val_loss: 0.1118 - val_accuracy: 0.9789\n",
            "Epoch 17/25\n",
            "196/196 [==============================] - 2s 10ms/step - loss: 0.0171 - accuracy: 0.9956 - val_loss: 0.0933 - val_accuracy: 0.9793\n",
            "Epoch 18/25\n",
            "196/196 [==============================] - 2s 11ms/step - loss: 0.0136 - accuracy: 0.9959 - val_loss: 0.1282 - val_accuracy: 0.9788\n",
            "Epoch 19/25\n",
            "196/196 [==============================] - 2s 11ms/step - loss: 0.0115 - accuracy: 0.9968 - val_loss: 0.1309 - val_accuracy: 0.9780\n",
            "Epoch 20/25\n",
            "196/196 [==============================] - 2s 10ms/step - loss: 0.0126 - accuracy: 0.9966 - val_loss: 0.1341 - val_accuracy: 0.9760\n",
            "Epoch 21/25\n",
            "196/196 [==============================] - 2s 10ms/step - loss: 0.0177 - accuracy: 0.9952 - val_loss: 0.1164 - val_accuracy: 0.9802\n",
            "Epoch 22/25\n",
            "196/196 [==============================] - 2s 10ms/step - loss: 0.0144 - accuracy: 0.9963 - val_loss: 0.1330 - val_accuracy: 0.9808\n",
            "Epoch 23/25\n",
            "196/196 [==============================] - 2s 10ms/step - loss: 0.0148 - accuracy: 0.9961 - val_loss: 0.1016 - val_accuracy: 0.9802\n",
            "Epoch 24/25\n",
            "196/196 [==============================] - 2s 10ms/step - loss: 0.0092 - accuracy: 0.9978 - val_loss: 0.1186 - val_accuracy: 0.9799\n",
            "Epoch 25/25\n",
            "196/196 [==============================] - 2s 10ms/step - loss: 0.0159 - accuracy: 0.9961 - val_loss: 0.1198 - val_accuracy: 0.9789\n",
            "313/313 - 1s - loss: 0.1019 - accuracy: 0.9802\n"
          ],
          "name": "stdout"
        },
        {
          "output_type": "display_data",
          "data": {
            "image/png": "[encoded data removed]",
            "text/plain": [
              "<Figure size 648x432 with 1 Axes>"
            ]
          },
          "metadata": {
            "tags": [],
            "needs_background": "light"
          }
        }
      ]
    },
    {
      "cell_type": "markdown",
      "metadata": {
        "id": "Pyazx80kptNs"
      },
      "source": [
        "### Early stopping 구현하기\n",
        "\n",
        "위 작성한 모델을 복사해오기, 50 epoch동안 학습하도록 수정\n",
        "\n",
        "매 epoch마다 validation accuracy의 개선이 없으면 학습을 거기서 중단하도록 하자!\n",
        "\n",
        "몇 번 봐줄까? --> patience 옵션을 통해 조절\n",
        "\n",
        "* 한번이라도 정확도가 감소하면 바로 stop!\n",
        "* 두번은 봐주자! 연속 두번 감소하면 그때 stop!\n",
        "* ...\n",
        "\n",
        "tf.keras.callbacks.EarlyStopping 기능 활용,\n",
        "매 epoch마다 지정한 metric을 기준으로 early stopping을 선정 가능"
      ]
    },
    {
      "cell_type": "code",
      "metadata": {
        "id": "25GDS7YQWEV2",
        "outputId": "7351dde6-28b5-42f8-9467-02a7092d3782",
        "colab": {
          "base_uri": "https://localhost:8080/",
          "height": 714
        }
      },
      "source": [
        "model = tf.keras.models.Sequential([\n",
        "Flatten(input_shape=(28, 28, 1)),\n",
        "Dense(1024, activation='relu'),\n",
        "Dense(1024, activation='relu'),\n",
        "Dense(1024, activation='relu'),\n",
        "Dense(1024, activation='relu'),\n",
        "Dense(1024, activation='relu'),\n",
        "Dense(10, activation='softmax')\n",
        "])\n",
        "\n",
        "model.compile(optimizer='adam',loss='categorical_crossentropy',metrics=['accuracy'])\n",
        "\n",
        "early_stop = tf.keras.callbacks.EarlyStopping(monitor='val_accuracy', patience = 3)  # 빈칸을 채워봅시다!\n",
        "\n",
        "history = model.fit(x_train, y_train, batch_size=256, epochs=50, validation_data=(x_val, y_val), callbacks=[early_stop], verbose=1)\n",
        "result = model.evaluate(x_test,  y_test, verbose=2)\n",
        "plot_history([history])"
      ],
      "execution_count": null,
      "outputs": [
        {
          "output_type": "stream",
          "text": [
            "Epoch 1/50\n",
            "196/196 [==============================] - 2s 11ms/step - loss: 0.2715 - accuracy: 0.9147 - val_loss: 0.1493 - val_accuracy: 0.9534\n",
            "Epoch 2/50\n",
            "196/196 [==============================] - 2s 10ms/step - loss: 0.0951 - accuracy: 0.9710 - val_loss: 0.1031 - val_accuracy: 0.9701\n",
            "Epoch 3/50\n",
            "196/196 [==============================] - 2s 10ms/step - loss: 0.0665 - accuracy: 0.9800 - val_loss: 0.0970 - val_accuracy: 0.9723\n",
            "Epoch 4/50\n",
            "196/196 [==============================] - 2s 11ms/step - loss: 0.0502 - accuracy: 0.9846 - val_loss: 0.0957 - val_accuracy: 0.9735\n",
            "Epoch 5/50\n",
            "196/196 [==============================] - 2s 11ms/step - loss: 0.0376 - accuracy: 0.9885 - val_loss: 0.0864 - val_accuracy: 0.9786\n",
            "Epoch 6/50\n",
            "196/196 [==============================] - 2s 10ms/step - loss: 0.0356 - accuracy: 0.9892 - val_loss: 0.0937 - val_accuracy: 0.9768\n",
            "Epoch 7/50\n",
            "196/196 [==============================] - 2s 10ms/step - loss: 0.0269 - accuracy: 0.9915 - val_loss: 0.0907 - val_accuracy: 0.9786\n",
            "Epoch 8/50\n",
            "196/196 [==============================] - 2s 10ms/step - loss: 0.0240 - accuracy: 0.9925 - val_loss: 0.1014 - val_accuracy: 0.9772\n",
            "313/313 - 1s - loss: 0.0837 - accuracy: 0.9807\n"
          ],
          "name": "stdout"
        },
        {
          "output_type": "display_data",
          "data": {
            "image/png": "[encoded data removed]",
            "text/plain": [
              "<Figure size 648x432 with 1 Axes>"
            ]
          },
          "metadata": {
            "tags": [],
            "needs_background": "light"
          }
        }
      ]
    },
    {
      "cell_type": "markdown",
      "metadata": {
        "id": "ATFvlt9VsCjS"
      },
      "source": [
        "### Capacity 조정 및 Dropout 구현하기\n",
        "\n",
        "기준 모델을 복사해오기\n",
        "\n",
        "hidden 2층과 output layer만 남기기\n",
        "\n",
        "Dropout layer 활용, 레이어 사이마다 50% dropout 적용하기"
      ]
    },
    {
      "cell_type": "code",
      "metadata": {
        "id": "AmkQ6brGrLuX",
        "outputId": "7f96d7ae-bddf-4df2-efab-5928739a715c",
        "colab": {
          "base_uri": "https://localhost:8080/",
          "height": 1000
        }
      },
      "source": [
        "# 필요한 기능을 import합니다\n",
        "from tensorflow.keras.layers import Dropout\n",
        "\n",
        "model = tf.keras.models.Sequential([\n",
        "Flatten(input_shape=(28, 28, 1)),\n",
        "Dense(1024, activation='relu'),\n",
        "Dropout(0.5),\n",
        "Dense(1024, activation='relu'),\n",
        "Dropout(0.5),\n",
        "Dense(10, activation='softmax')\n",
        "])\n",
        "\n",
        "model.compile(optimizer='adam',loss='categorical_crossentropy',metrics=['accuracy']) \n",
        "\n",
        "history = model.fit(x_train, y_train, batch_size=256, epochs=25, validation_data=(x_val, y_val), verbose=1)\n",
        "result = model.evaluate(x_test,  y_test, verbose=2)\n",
        "plot_history([history])"
      ],
      "execution_count": null,
      "outputs": [
        {
          "output_type": "stream",
          "text": [
            "Epoch 1/25\n",
            "196/196 [==============================] - 2s 10ms/step - loss: 0.3378 - accuracy: 0.8966 - val_loss: 0.1202 - val_accuracy: 0.9641\n",
            "Epoch 2/25\n",
            "196/196 [==============================] - 2s 8ms/step - loss: 0.1453 - accuracy: 0.9551 - val_loss: 0.0933 - val_accuracy: 0.9724\n",
            "Epoch 3/25\n",
            "196/196 [==============================] - 1s 8ms/step - loss: 0.1106 - accuracy: 0.9654 - val_loss: 0.0840 - val_accuracy: 0.9757\n",
            "Epoch 4/25\n",
            "196/196 [==============================] - 1s 8ms/step - loss: 0.0886 - accuracy: 0.9722 - val_loss: 0.0737 - val_accuracy: 0.9777\n",
            "Epoch 5/25\n",
            "196/196 [==============================] - 1s 8ms/step - loss: 0.0802 - accuracy: 0.9758 - val_loss: 0.0697 - val_accuracy: 0.9796\n",
            "Epoch 6/25\n",
            "196/196 [==============================] - 2s 8ms/step - loss: 0.0678 - accuracy: 0.9786 - val_loss: 0.0739 - val_accuracy: 0.9778\n",
            "Epoch 7/25\n",
            "196/196 [==============================] - 2s 8ms/step - loss: 0.0602 - accuracy: 0.9808 - val_loss: 0.0743 - val_accuracy: 0.9801\n",
            "Epoch 8/25\n",
            "196/196 [==============================] - 2s 8ms/step - loss: 0.0547 - accuracy: 0.9819 - val_loss: 0.0763 - val_accuracy: 0.9792\n",
            "Epoch 9/25\n",
            "196/196 [==============================] - 2s 8ms/step - loss: 0.0523 - accuracy: 0.9837 - val_loss: 0.0646 - val_accuracy: 0.9820\n",
            "Epoch 10/25\n",
            "196/196 [==============================] - 2s 8ms/step - loss: 0.0509 - accuracy: 0.9831 - val_loss: 0.0773 - val_accuracy: 0.9801\n",
            "Epoch 11/25\n",
            "196/196 [==============================] - 2s 8ms/step - loss: 0.0446 - accuracy: 0.9855 - val_loss: 0.0690 - val_accuracy: 0.9813\n",
            "Epoch 12/25\n",
            "196/196 [==============================] - 2s 8ms/step - loss: 0.0410 - accuracy: 0.9863 - val_loss: 0.0634 - val_accuracy: 0.9824\n",
            "Epoch 13/25\n",
            "196/196 [==============================] - 2s 8ms/step - loss: 0.0384 - accuracy: 0.9877 - val_loss: 0.0689 - val_accuracy: 0.9819\n",
            "Epoch 14/25\n",
            "196/196 [==============================] - 2s 8ms/step - loss: 0.0378 - accuracy: 0.9876 - val_loss: 0.0684 - val_accuracy: 0.9829\n",
            "Epoch 15/25\n",
            "196/196 [==============================] - 1s 8ms/step - loss: 0.0345 - accuracy: 0.9884 - val_loss: 0.0724 - val_accuracy: 0.9822\n",
            "Epoch 16/25\n",
            "196/196 [==============================] - 1s 8ms/step - loss: 0.0348 - accuracy: 0.9885 - val_loss: 0.0674 - val_accuracy: 0.9842\n",
            "Epoch 17/25\n",
            "196/196 [==============================] - 1s 8ms/step - loss: 0.0315 - accuracy: 0.9896 - val_loss: 0.0768 - val_accuracy: 0.9815\n",
            "Epoch 18/25\n",
            "196/196 [==============================] - 1s 8ms/step - loss: 0.0342 - accuracy: 0.9888 - val_loss: 0.0678 - val_accuracy: 0.9837\n",
            "Epoch 19/25\n",
            "196/196 [==============================] - 2s 8ms/step - loss: 0.0318 - accuracy: 0.9897 - val_loss: 0.0708 - val_accuracy: 0.9838\n",
            "Epoch 20/25\n",
            "196/196 [==============================] - 2s 8ms/step - loss: 0.0329 - accuracy: 0.9888 - val_loss: 0.0748 - val_accuracy: 0.9820\n",
            "Epoch 21/25\n",
            "196/196 [==============================] - 2s 8ms/step - loss: 0.0304 - accuracy: 0.9897 - val_loss: 0.0750 - val_accuracy: 0.9810\n",
            "Epoch 22/25\n",
            "196/196 [==============================] - 2s 8ms/step - loss: 0.0267 - accuracy: 0.9910 - val_loss: 0.0765 - val_accuracy: 0.9830\n",
            "Epoch 23/25\n",
            "196/196 [==============================] - 1s 8ms/step - loss: 0.0297 - accuracy: 0.9899 - val_loss: 0.0726 - val_accuracy: 0.9833\n",
            "Epoch 24/25\n",
            "196/196 [==============================] - 1s 8ms/step - loss: 0.0280 - accuracy: 0.9914 - val_loss: 0.0729 - val_accuracy: 0.9842\n",
            "Epoch 25/25\n",
            "196/196 [==============================] - 1s 8ms/step - loss: 0.0257 - accuracy: 0.9916 - val_loss: 0.0785 - val_accuracy: 0.9836\n",
            "313/313 - 1s - loss: 0.0669 - accuracy: 0.9839\n"
          ],
          "name": "stdout"
        },
        {
          "output_type": "display_data",
          "data": {
            "image/png": "[encoded data removed]",
            "text/plain": [
              "<Figure size 648x432 with 1 Axes>"
            ]
          },
          "metadata": {
            "tags": [],
            "needs_background": "light"
          }
        }
      ]
    }
  ]
}