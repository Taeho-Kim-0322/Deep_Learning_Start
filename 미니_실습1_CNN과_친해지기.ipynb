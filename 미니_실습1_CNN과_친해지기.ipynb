{
  "nbformat": 4,
  "nbformat_minor": 0,
  "metadata": {
    "colab": {
      "name": "미니_실습1_CNN과_친해지기.ipynb",
      "provenance": [],
      "collapsed_sections": [],
      "machine_shape": "hm",
      "include_colab_link": true
    },
    "kernelspec": {
      "name": "python3",
      "display_name": "Python 3"
    },
    "accelerator": "GPU"
  },
  "cells": [
    {
      "cell_type": "markdown",
      "metadata": {
        "id": "view-in-github",
        "colab_type": "text"
      },
      "source": [
        "<a href=\"https://colab.research.google.com/github/Taeho-Kim-0322/Deep_Learning_Start/blob/master/%EB%AF%B8%EB%8B%88_%EC%8B%A4%EC%8A%B51_CNN%EA%B3%BC_%EC%B9%9C%ED%95%B4%EC%A7%80%EA%B8%B0.ipynb\" target=\"_parent\"><img src=\"https://colab.research.google.com/assets/colab-badge.svg\" alt=\"Open In Colab\"/></a>"
      ]
    },
    {
      "cell_type": "markdown",
      "metadata": {
        "id": "RQuwLrfneJGq"
      },
      "source": [
        "## 1D CNN과 친해져요 :)"
      ]
    },
    {
      "cell_type": "code",
      "metadata": {
        "id": "mZ7JZpmsEyqC"
      },
      "source": [
        "import numpy as np\n",
        "import tensorflow as tf\n",
        "from tensorflow.keras.layers import Conv1D, MaxPool1D, GlobalMaxPooling1D"
      ],
      "execution_count": 16,
      "outputs": []
    },
    {
      "cell_type": "markdown",
      "metadata": {
        "id": "J5M7A-EENdX1"
      },
      "source": [
        "1. 길이가 10 토큰인 문장을 임베딩 사이즈=32로 임베딩한 것에 CNN 적용하기"
      ]
    },
    {
      "cell_type": "code",
      "metadata": {
        "id": "pXZYQzcZMjEf",
        "colab": {
          "base_uri": "https://localhost:8080/"
        },
        "outputId": "15fe2bad-3790-4381-e55a-d06979a24f9a"
      },
      "source": [
        "BATCH_SIZE = 1\n",
        "SEQ_LEN = 10\n",
        "EMBEDDING_SIZE = 32\n",
        "\n",
        "embedded_input = np.array(np.random.normal(size=(BATCH_SIZE, SEQ_LEN, EMBEDDING_SIZE)), dtype=np.float32)\n",
        "print(embedded_input.shape)"
      ],
      "execution_count": 3,
      "outputs": [
        {
          "output_type": "stream",
          "text": [
            "(1, 10, 32)\n"
          ],
          "name": "stdout"
        }
      ]
    },
    {
      "cell_type": "code",
      "metadata": {
        "id": "mUBAmFSRMv0D"
      },
      "source": [
        "KERNEL_SIZE1 = 3\n",
        "NUM_FEATURE_MAP = 10\n",
        "\n",
        "cnn_applied1 = Conv1D(filters = NUM_FEATURE_MAP, \n",
        "                     kernel_size = KERNEL_SIZE1, \n",
        "                     activation='relu')(embedded_input)"
      ],
      "execution_count": 4,
      "outputs": []
    },
    {
      "cell_type": "code",
      "metadata": {
        "id": "9hbzM1UxNC53",
        "colab": {
          "base_uri": "https://localhost:8080/"
        },
        "outputId": "d7600445-fbce-4bfa-b1ae-0dda3ae804f3"
      },
      "source": [
        "print(cnn_applied1.shape)"
      ],
      "execution_count": 5,
      "outputs": [
        {
          "output_type": "stream",
          "text": [
            "(1, 8, 10)\n"
          ],
          "name": "stdout"
        }
      ]
    },
    {
      "cell_type": "code",
      "metadata": {
        "id": "KYCMts2XO0j8"
      },
      "source": [
        "KERNEL_SIZE2 = 4\n",
        "NUM_FEATURE_MAP = 10\n",
        "\n",
        "cnn_applied2 = Conv1D(filters = NUM_FEATURE_MAP, \n",
        "                     kernel_size = KERNEL_SIZE2, \n",
        "                     activation='relu')(embedded_input)"
      ],
      "execution_count": 6,
      "outputs": []
    },
    {
      "cell_type": "code",
      "metadata": {
        "id": "nw_DUfYQNXYs",
        "colab": {
          "base_uri": "https://localhost:8080/"
        },
        "outputId": "8c578858-7c9d-4890-e701-5d306f038487"
      },
      "source": [
        "print(cnn_applied2.shape)"
      ],
      "execution_count": 7,
      "outputs": [
        {
          "output_type": "stream",
          "text": [
            "(1, 7, 10)\n"
          ],
          "name": "stdout"
        }
      ]
    },
    {
      "cell_type": "markdown",
      "metadata": {
        "id": "mPKlNuaIQGrA"
      },
      "source": [
        "2. CNN feature map에 Max Pooling 적용하기"
      ]
    },
    {
      "cell_type": "code",
      "metadata": {
        "id": "g6gOJrXvQCP_",
        "colab": {
          "base_uri": "https://localhost:8080/"
        },
        "outputId": "6e147072-b79e-4ade-c85b-f4e8d102c4b3"
      },
      "source": [
        "POOL_SIZE1 = SEQ_LEN - KERNEL_SIZE1 + 1\n",
        "## <- 이 계산을 알아서 해주는 것이 GlobalMaxPooling1D !!!\n",
        "print(\"CNN applied size for kernel {} => {}\".format(KERNEL_SIZE1, cnn_applied1.shape))\n",
        "print(\"Pooling size for kernel {}     => {}\".format(KERNEL_SIZE1, POOL_SIZE1))\n",
        "\n",
        "max_pool_applied1 = GlobalMaxPooling1D()(cnn_applied1)\n",
        "print(max_pool_applied1.shape)"
      ],
      "execution_count": 8,
      "outputs": [
        {
          "output_type": "stream",
          "text": [
            "CNN applied size for kernel 3 => (1, 8, 10)\n",
            "Pooling size for kernel 3     => 8\n",
            "(1, 10)\n"
          ],
          "name": "stdout"
        }
      ]
    },
    {
      "cell_type": "code",
      "metadata": {
        "id": "vJRY6ALzL5eo",
        "colab": {
          "base_uri": "https://localhost:8080/"
        },
        "outputId": "651227e5-aa63-4aa3-f8b2-8d2271cdedea"
      },
      "source": [
        "embedded_input.shape"
      ],
      "execution_count": 9,
      "outputs": [
        {
          "output_type": "execute_result",
          "data": {
            "text/plain": [
              "(1, 10, 32)"
            ]
          },
          "metadata": {
            "tags": []
          },
          "execution_count": 9
        }
      ]
    },
    {
      "cell_type": "code",
      "metadata": {
        "id": "NixAyQCHK4w5",
        "colab": {
          "base_uri": "https://localhost:8080/"
        },
        "outputId": "f16e14de-a0f8-406b-8340-aa439b4a673b"
      },
      "source": [
        "cnn_applied1.shape"
      ],
      "execution_count": 10,
      "outputs": [
        {
          "output_type": "execute_result",
          "data": {
            "text/plain": [
              "TensorShape([1, 8, 10])"
            ]
          },
          "metadata": {
            "tags": []
          },
          "execution_count": 10
        }
      ]
    },
    {
      "cell_type": "code",
      "metadata": {
        "id": "4SKPgGbvJV0c",
        "colab": {
          "base_uri": "https://localhost:8080/"
        },
        "outputId": "d95854b6-0ed4-4b22-dab5-293ac4c5910a"
      },
      "source": [
        "[a[1]for a in cnn_applied1[0]]"
      ],
      "execution_count": 11,
      "outputs": [
        {
          "output_type": "execute_result",
          "data": {
            "text/plain": [
              "[<tf.Tensor: shape=(), dtype=float32, numpy=1.6879379>,\n",
              " <tf.Tensor: shape=(), dtype=float32, numpy=1.1281588>,\n",
              " <tf.Tensor: shape=(), dtype=float32, numpy=1.5757378>,\n",
              " <tf.Tensor: shape=(), dtype=float32, numpy=2.2364829>,\n",
              " <tf.Tensor: shape=(), dtype=float32, numpy=1.4315151>,\n",
              " <tf.Tensor: shape=(), dtype=float32, numpy=0.85107756>,\n",
              " <tf.Tensor: shape=(), dtype=float32, numpy=0.0>,\n",
              " <tf.Tensor: shape=(), dtype=float32, numpy=0.0>]"
            ]
          },
          "metadata": {
            "tags": []
          },
          "execution_count": 11
        }
      ]
    },
    {
      "cell_type": "code",
      "metadata": {
        "id": "JRVOhCsIJV5s",
        "colab": {
          "base_uri": "https://localhost:8080/"
        },
        "outputId": "b5663843-8332-414d-ec5d-1a67431b9706"
      },
      "source": [
        "max_pool_applied1[0]"
      ],
      "execution_count": 12,
      "outputs": [
        {
          "output_type": "execute_result",
          "data": {
            "text/plain": [
              "<tf.Tensor: shape=(10,), dtype=float32, numpy=\n",
              "array([1.3943576, 2.2364829, 3.108915 , 1.6628414, 2.504888 , 2.6177402,\n",
              "       2.201215 , 1.3248333, 2.2635443, 2.4062645], dtype=float32)>"
            ]
          },
          "metadata": {
            "tags": []
          },
          "execution_count": 12
        }
      ]
    },
    {
      "cell_type": "code",
      "metadata": {
        "id": "MsZL3uYlQrB3",
        "colab": {
          "base_uri": "https://localhost:8080/"
        },
        "outputId": "1a0069db-a683-4968-c387-d57f0da44a5b"
      },
      "source": [
        "POOL_SIZE2 = SEQ_LEN - KERNEL_SIZE2 + 1\n",
        "## <- 이 계산을 알아서 해주는 것이 GlobalMaxPooling1D !!!\n",
        "print(\"CNN applied size for kernel {} => {}\".format(KERNEL_SIZE2, cnn_applied2.shape))\n",
        "print(\"Pooling size for kernel {}     => {}\".format(KERNEL_SIZE2, POOL_SIZE2))\n",
        "\n",
        "max_pool_applied2 = GlobalMaxPooling1D()(cnn_applied2)\n",
        "print(max_pool_applied2.shape)"
      ],
      "execution_count": 13,
      "outputs": [
        {
          "output_type": "stream",
          "text": [
            "CNN applied size for kernel 4 => (1, 7, 10)\n",
            "Pooling size for kernel 4     => 7\n",
            "(1, 10)\n"
          ],
          "name": "stdout"
        }
      ]
    },
    {
      "cell_type": "markdown",
      "metadata": {
        "id": "F0Ax9S5M3pb5"
      },
      "source": [
        "3. 만들어진 feature들을 concat"
      ]
    },
    {
      "cell_type": "code",
      "metadata": {
        "id": "YmQ3J1H-RAq3",
        "colab": {
          "base_uri": "https://localhost:8080/"
        },
        "outputId": "bcdcab46-d47d-41c5-97d6-73b790d8ab2c"
      },
      "source": [
        "concated_feature = tf.keras.layers.concatenate([max_pool_applied1, max_pool_applied2], axis=-1)\n",
        "print(concated_feature.shape)"
      ],
      "execution_count": 17,
      "outputs": [
        {
          "output_type": "stream",
          "text": [
            "(1, 20)\n"
          ],
          "name": "stdout"
        }
      ]
    },
    {
      "cell_type": "code",
      "metadata": {
        "id": "3u0a738Y6WHi"
      },
      "source": [
        ""
      ],
      "execution_count": null,
      "outputs": []
    }
  ]
}