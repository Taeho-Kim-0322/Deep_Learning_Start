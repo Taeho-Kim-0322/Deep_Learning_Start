{
  "nbformat": 4,
  "nbformat_minor": 0,
  "metadata": {
    "colab": {
      "name": "실습_4_CNN.ipynb",
      "provenance": [],
      "collapsed_sections": [],
      "include_colab_link": true
    },
    "kernelspec": {
      "name": "python3",
      "display_name": "Python 3"
    },
    "accelerator": "GPU"
  },
  "cells": [
    {
      "cell_type": "markdown",
      "metadata": {
        "id": "view-in-github",
        "colab_type": "text"
      },
      "source": [
        "<a href=\"https://colab.research.google.com/github/Taeho-Kim-0322/Deep_Learning_Start/blob/master/%EC%8B%A4%EC%8A%B5_4_CNN.ipynb\" target=\"_parent\"><img src=\"https://colab.research.google.com/assets/colab-badge.svg\" alt=\"Open In Colab\"/></a>"
      ]
    },
    {
      "cell_type": "markdown",
      "metadata": {
        "id": "1ZbgG9yBMziQ"
      },
      "source": [
        "\n",
        "#CNN\n"
      ]
    },
    {
      "cell_type": "code",
      "metadata": {
        "id": "VHSOO82gLgzc"
      },
      "source": [
        "import tensorflow as tf \n",
        "\n",
        "from tensorflow.keras.layers import Dense, Flatten, Conv2D, MaxPool2D\n",
        "from tensorflow.keras.models import Sequential"
      ],
      "execution_count": null,
      "outputs": []
    },
    {
      "cell_type": "markdown",
      "metadata": {
        "id": "hGSoUF1AUfdO"
      },
      "source": [
        "> Conv2D의 활용을 이해해봅시다!"
      ]
    },
    {
      "cell_type": "code",
      "metadata": {
        "id": "L6KRsAT7VpDe"
      },
      "source": [
        "model_conv = Sequential([\n",
        "                          Conv2D(10, kernel_size=3, # 3x3을 10개 쌓는다\n",
        "                          activation='relu', # 활성화함수 relu\n",
        "                          input_shape=(28, 28, 1)) # MNIST data : 가로세로 28픽셀, 회색조 이미지\n",
        "                          ]) "
      ],
      "execution_count": null,
      "outputs": []
    },
    {
      "cell_type": "code",
      "metadata": {
        "id": "JYMIUwmid0MF",
        "outputId": "99905a2c-7c65-4992-d1f2-5624ab91d93e",
        "colab": {
          "base_uri": "https://localhost:8080/",
          "height": 197
        }
      },
      "source": [
        "model_conv.summary()"
      ],
      "execution_count": null,
      "outputs": [
        {
          "output_type": "stream",
          "text": [
            "Model: \"sequential\"\n",
            "_________________________________________________________________\n",
            "Layer (type)                 Output Shape              Param #   \n",
            "=================================================================\n",
            "conv2d (Conv2D)              (None, 26, 26, 10)        100       \n",
            "=================================================================\n",
            "Total params: 100\n",
            "Trainable params: 100\n",
            "Non-trainable params: 0\n",
            "_________________________________________________________________\n"
          ],
          "name": "stdout"
        }
      ]
    },
    {
      "cell_type": "markdown",
      "metadata": {
        "id": "0wkXt1VPWdBr"
      },
      "source": [
        "\n",
        "### <font color='red'>MISSION 1</font>\n",
        "> input의 shape가 \"[None, 100, 100, 1]\"일 때\n",
        "> output의 shape가 '[None, 91, 91, 30]'이 되도록 Conv Layer를 한 층 쌓아보자."
      ]
    },
    {
      "cell_type": "code",
      "metadata": {
        "id": "2XFOLfXrWhxD",
        "outputId": "79468e74-d382-404e-e7f4-db5f79e2a12e",
        "colab": {
          "base_uri": "https://localhost:8080/",
          "height": 197
        }
      },
      "source": [
        "model_mission1 = Sequential([\n",
        "                             #### ANSWER #### \n",
        "                          Conv2D(30, kernel_size=10, activation='relu', input_shape=(100, 100, 1))\n",
        "                             \n",
        "                             ################\n",
        "                             ])\n",
        "model_mission1.summary()"
      ],
      "execution_count": null,
      "outputs": [
        {
          "output_type": "stream",
          "text": [
            "Model: \"sequential_1\"\n",
            "_________________________________________________________________\n",
            "Layer (type)                 Output Shape              Param #   \n",
            "=================================================================\n",
            "conv2d_1 (Conv2D)            (None, 91, 91, 30)        3030      \n",
            "=================================================================\n",
            "Total params: 3,030\n",
            "Trainable params: 3,030\n",
            "Non-trainable params: 0\n",
            "_________________________________________________________________\n"
          ],
          "name": "stdout"
        }
      ]
    },
    {
      "cell_type": "markdown",
      "metadata": {
        "id": "0Hemoa_heZ9_"
      },
      "source": [
        "> Maxpool의 활용을 이해해봅시다!"
      ]
    },
    {
      "cell_type": "code",
      "metadata": {
        "id": "qbUnSfi4blYm"
      },
      "source": [
        "model_mp1 = Sequential([\n",
        "                        MaxPool2D(pool_size=(3, 3), input_shape=(15, 15, 3))\n",
        "])"
      ],
      "execution_count": null,
      "outputs": []
    },
    {
      "cell_type": "code",
      "metadata": {
        "id": "nMCHG4DMfIdZ",
        "outputId": "705fb775-85f6-4270-e64a-3d8bebe63bea",
        "colab": {
          "base_uri": "https://localhost:8080/",
          "height": 53
        }
      },
      "source": [
        "print(model_mp1.input_shape)\n",
        "print(model_mp1.output_shape)"
      ],
      "execution_count": null,
      "outputs": [
        {
          "output_type": "stream",
          "text": [
            "(None, 15, 15, 3)\n",
            "(None, 5, 5, 3)\n"
          ],
          "name": "stdout"
        }
      ]
    },
    {
      "cell_type": "code",
      "metadata": {
        "id": "zsC3q3rNf_Pc"
      },
      "source": [
        "model_mp2 = Sequential([\n",
        "                        MaxPool2D(pool_size=(3, 3), input_shape=(30, 30, 3))\n",
        "])"
      ],
      "execution_count": null,
      "outputs": []
    },
    {
      "cell_type": "code",
      "metadata": {
        "id": "yTGEKZg9iDoV",
        "outputId": "2b8f7e4f-4fb4-423d-d481-8b42333e4e2a",
        "colab": {
          "base_uri": "https://localhost:8080/",
          "height": 53
        }
      },
      "source": [
        "# 프린트하기 전에 정답을 예상해봅시다~!\n",
        "\n",
        "print(model_mp2.input_shape)\n",
        "print(model_mp2.output_shape)"
      ],
      "execution_count": null,
      "outputs": [
        {
          "output_type": "stream",
          "text": [
            "(None, 30, 30, 3)\n",
            "(None, 10, 10, 3)\n"
          ],
          "name": "stdout"
        }
      ]
    },
    {
      "cell_type": "markdown",
      "metadata": {
        "id": "UNqY8gAiUy67"
      },
      "source": [
        "# 실습 MISSION\n",
        "### CIFAR10 데이터가 입력된다고 가정하고 네트워크를 구성해보자\n",
        "\n",
        "CIFAR10 : 32 x 32 픽셀, RGB 컬러 이미지\n",
        "\n",
        "* 3x3 필터를 64장 적용하는 convolution layer 1 층\n",
        "* 2x2 pooling을 적용하는 MaxPool layer 1층\n",
        "* 4x4 필터를 128장 적용하는 convolution layer 1 층\n",
        "* 3x3 pooling을 적용하는 MaxPool layer 1층\n",
        "* 3x3 필터를 100장 적용하는 convolution layer 1 층 \n",
        "* 2x2 pooling을 적용하는 MaxPool layer 1층\n",
        "\n",
        "* 모든 conv layer의 activation function으로 ReLU를 활용할 것\n",
        "\n",
        "> output shape : (1, 1, 100)"
      ]
    },
    {
      "cell_type": "code",
      "metadata": {
        "id": "NRwMgDW750mI",
        "outputId": "bdfa723a-75ba-415a-fb91-9b6a0a3df72c",
        "colab": {
          "base_uri": "https://localhost:8080/",
          "height": 377
        }
      },
      "source": [
        "final_model1 = Sequential([\n",
        "                           # 여기에 mission 코드를 작성하세요 \n",
        "                          Conv2D(64, kernel_size=3, activation='relu', input_shape=(32, 32, 3)),\n",
        "                          MaxPool2D(pool_size=(2, 2)),\n",
        "                          Conv2D(128, kernel_size=4, activation='relu'),\n",
        "                          MaxPool2D(pool_size=(3, 3)),\n",
        "                          Conv2D(100, kernel_size=3, activation='relu'),\n",
        "                          MaxPool2D(pool_size=(2, 2))\n",
        "])\n",
        "\n",
        "final_model1.summary()"
      ],
      "execution_count": null,
      "outputs": [
        {
          "output_type": "stream",
          "text": [
            "Model: \"sequential_7\"\n",
            "_________________________________________________________________\n",
            "Layer (type)                 Output Shape              Param #   \n",
            "=================================================================\n",
            "conv2d_5 (Conv2D)            (None, 30, 30, 64)        1792      \n",
            "_________________________________________________________________\n",
            "max_pooling2d_7 (MaxPooling2 (None, 15, 15, 64)        0         \n",
            "_________________________________________________________________\n",
            "conv2d_6 (Conv2D)            (None, 12, 12, 128)       131200    \n",
            "_________________________________________________________________\n",
            "max_pooling2d_8 (MaxPooling2 (None, 4, 4, 128)         0         \n",
            "_________________________________________________________________\n",
            "conv2d_7 (Conv2D)            (None, 2, 2, 100)         115300    \n",
            "_________________________________________________________________\n",
            "max_pooling2d_9 (MaxPooling2 (None, 1, 1, 100)         0         \n",
            "=================================================================\n",
            "Total params: 248,292\n",
            "Trainable params: 248,292\n",
            "Non-trainable params: 0\n",
            "_________________________________________________________________\n"
          ],
          "name": "stdout"
        }
      ]
    },
    {
      "cell_type": "code",
      "metadata": {
        "id": "o0HWPaUJxWwP"
      },
      "source": [
        ""
      ],
      "execution_count": null,
      "outputs": []
    }
  ]
}