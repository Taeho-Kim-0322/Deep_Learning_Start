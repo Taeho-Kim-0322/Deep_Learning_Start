{
  "nbformat": 4,
  "nbformat_minor": 0,
  "metadata": {
    "colab": {
      "name": "실습_3_2_RNN_감성분석_기본모델링.ipynb",
      "provenance": [],
      "collapsed_sections": [],
      "toc_visible": true,
      "machine_shape": "hm",
      "include_colab_link": true
    },
    "kernelspec": {
      "name": "python3",
      "display_name": "Python 3"
    },
    "accelerator": "GPU"
  },
  "cells": [
    {
      "cell_type": "markdown",
      "metadata": {
        "id": "view-in-github",
        "colab_type": "text"
      },
      "source": [
        "<a href=\"https://colab.research.google.com/github/Taeho-Kim-0322/Deep_Learning_Start/blob/master/%EC%8B%A4%EC%8A%B5_3_2_RNN_%EA%B0%90%EC%84%B1%EB%B6%84%EC%84%9D_%EA%B8%B0%EB%B3%B8%EB%AA%A8%EB%8D%B8%EB%A7%81.ipynb\" target=\"_parent\"><img src=\"https://colab.research.google.com/assets/colab-badge.svg\" alt=\"Open In Colab\"/></a>"
      ]
    },
    {
      "cell_type": "markdown",
      "metadata": {
        "id": "5F0ln_J9xeHb"
      },
      "source": [
        "(🎧) 표시가 되어 있는 부분은 Wire 페이지에서 오디오 코드 해설을 제공하고 있습니다."
      ]
    },
    {
      "cell_type": "markdown",
      "metadata": {
        "id": "EnxXpzPgxhHy"
      },
      "source": [
        "---"
      ]
    },
    {
      "cell_type": "markdown",
      "metadata": {
        "id": "RQuwLrfneJGq"
      },
      "source": [
        "# 실습 3. RNN을 이용한 😀감정분석😑 모델 학습하기\n",
        "\n",
        "\n",
        "\n",
        "<b>학습 목표:    \n",
        "- TensorFlow를 사용해 RNN을 활용한 텍스트분류 모델을 만들 수 있다.   \n",
        "- 기 확보된 워드벡터를 사용해 임베딩을 초기화할 수 있다. \n",
        "</b>\n",
        "\n",
        "\n",
        "\n",
        "\n",
        "\n",
        "\n"
      ]
    },
    {
      "cell_type": "markdown",
      "metadata": {
        "id": "XI5VEKjCVzQz"
      },
      "source": [
        "## #0. 실습 준비하기\n",
        "먼저 구글 드라이브를 마운트하고, 드라이브에 저장해두었던 데이터를 로딩하겠습니다."
      ]
    },
    {
      "cell_type": "code",
      "metadata": {
        "id": "5Cg9V5xCV-YJ",
        "colab": {
          "base_uri": "https://localhost:8080/"
        },
        "outputId": "299dcdcf-86f8-4384-9d98-94ee70d7018a"
      },
      "source": [
        "from google.colab import drive\n",
        "drive.mount('/content/gdrive')"
      ],
      "execution_count": null,
      "outputs": [
        {
          "output_type": "stream",
          "text": [
            "Drive already mounted at /content/gdrive; to attempt to forcibly remount, call drive.mount(\"/content/gdrive\", force_remount=True).\n"
          ],
          "name": "stdout"
        }
      ]
    },
    {
      "cell_type": "markdown",
      "metadata": {
        "id": "sWakdoOECeSe"
      },
      "source": [
        "konlpy에서 사용하는 jpype를 설치하고, Colab에 반영해 주어야 합니다.   \n",
        "아래 코드를 실행한 후 상단의 [런타임] - [런타임 다시 시작]을 클릭해주세요."
      ]
    },
    {
      "cell_type": "code",
      "metadata": {
        "id": "9NPpA318Cebs",
        "colab": {
          "base_uri": "https://localhost:8080/"
        },
        "outputId": "b6e52a9a-ee12-4915-bcf6-2ed887e8ff57"
      },
      "source": [
        "!pip install konlpy\n",
        "!pip install jpype1==0.7.0"
      ],
      "execution_count": null,
      "outputs": [
        {
          "output_type": "stream",
          "text": [
            "Collecting konlpy\n",
            "\u001b[?25l  Downloading https://files.pythonhosted.org/packages/85/0e/f385566fec837c0b83f216b2da65db9997b35dd675e107752005b7d392b1/konlpy-0.5.2-py2.py3-none-any.whl (19.4MB)\n",
            "\u001b[K     |████████████████████████████████| 19.4MB 1.2MB/s \n",
            "\u001b[?25hRequirement already satisfied: lxml>=4.1.0 in /usr/local/lib/python3.6/dist-packages (from konlpy) (4.2.6)\n",
            "Collecting JPype1>=0.7.0\n",
            "\u001b[?25l  Downloading https://files.pythonhosted.org/packages/b7/21/9e2c0dbf9df856e6392a1aec1d18006c60b175aa4e31d351e8278a8a63c0/JPype1-1.2.0-cp36-cp36m-manylinux2010_x86_64.whl (453kB)\n",
            "\u001b[K     |████████████████████████████████| 460kB 52.5MB/s \n",
            "\u001b[?25hCollecting beautifulsoup4==4.6.0\n",
            "\u001b[?25l  Downloading https://files.pythonhosted.org/packages/9e/d4/10f46e5cfac773e22707237bfcd51bbffeaf0a576b0a847ec7ab15bd7ace/beautifulsoup4-4.6.0-py3-none-any.whl (86kB)\n",
            "\u001b[K     |████████████████████████████████| 92kB 12.9MB/s \n",
            "\u001b[?25hCollecting colorama\n",
            "  Downloading https://files.pythonhosted.org/packages/44/98/5b86278fbbf250d239ae0ecb724f8572af1c91f4a11edf4d36a206189440/colorama-0.4.4-py2.py3-none-any.whl\n",
            "Requirement already satisfied: numpy>=1.6 in /usr/local/lib/python3.6/dist-packages (from konlpy) (1.18.5)\n",
            "Collecting tweepy>=3.7.0\n",
            "  Downloading https://files.pythonhosted.org/packages/bb/7c/99d51f80f3b77b107ebae2634108717362c059a41384a1810d13e2429a81/tweepy-3.9.0-py2.py3-none-any.whl\n",
            "Requirement already satisfied: typing-extensions; python_version < \"3.8\" in /usr/local/lib/python3.6/dist-packages (from JPype1>=0.7.0->konlpy) (3.7.4.3)\n",
            "Requirement already satisfied: six>=1.10.0 in /usr/local/lib/python3.6/dist-packages (from tweepy>=3.7.0->konlpy) (1.15.0)\n",
            "Requirement already satisfied: requests[socks]>=2.11.1 in /usr/local/lib/python3.6/dist-packages (from tweepy>=3.7.0->konlpy) (2.23.0)\n",
            "Requirement already satisfied: requests-oauthlib>=0.7.0 in /usr/local/lib/python3.6/dist-packages (from tweepy>=3.7.0->konlpy) (1.3.0)\n",
            "Requirement already satisfied: urllib3!=1.25.0,!=1.25.1,<1.26,>=1.21.1 in /usr/local/lib/python3.6/dist-packages (from requests[socks]>=2.11.1->tweepy>=3.7.0->konlpy) (1.24.3)\n",
            "Requirement already satisfied: chardet<4,>=3.0.2 in /usr/local/lib/python3.6/dist-packages (from requests[socks]>=2.11.1->tweepy>=3.7.0->konlpy) (3.0.4)\n",
            "Requirement already satisfied: idna<3,>=2.5 in /usr/local/lib/python3.6/dist-packages (from requests[socks]>=2.11.1->tweepy>=3.7.0->konlpy) (2.10)\n",
            "Requirement already satisfied: certifi>=2017.4.17 in /usr/local/lib/python3.6/dist-packages (from requests[socks]>=2.11.1->tweepy>=3.7.0->konlpy) (2020.11.8)\n",
            "Requirement already satisfied: PySocks!=1.5.7,>=1.5.6; extra == \"socks\" in /usr/local/lib/python3.6/dist-packages (from requests[socks]>=2.11.1->tweepy>=3.7.0->konlpy) (1.7.1)\n",
            "Requirement already satisfied: oauthlib>=3.0.0 in /usr/local/lib/python3.6/dist-packages (from requests-oauthlib>=0.7.0->tweepy>=3.7.0->konlpy) (3.1.0)\n",
            "Installing collected packages: JPype1, beautifulsoup4, colorama, tweepy, konlpy\n",
            "  Found existing installation: beautifulsoup4 4.6.3\n",
            "    Uninstalling beautifulsoup4-4.6.3:\n",
            "      Successfully uninstalled beautifulsoup4-4.6.3\n",
            "  Found existing installation: tweepy 3.6.0\n",
            "    Uninstalling tweepy-3.6.0:\n",
            "      Successfully uninstalled tweepy-3.6.0\n",
            "Successfully installed JPype1-1.2.0 beautifulsoup4-4.6.0 colorama-0.4.4 konlpy-0.5.2 tweepy-3.9.0\n",
            "Collecting jpype1==0.7.0\n",
            "\u001b[?25l  Downloading https://files.pythonhosted.org/packages/07/09/e19ce27d41d4f66d73ac5b6c6a188c51b506f56c7bfbe6c1491db2d15995/JPype1-0.7.0-cp36-cp36m-manylinux2010_x86_64.whl (2.7MB)\n",
            "\u001b[K     |████████████████████████████████| 2.7MB 5.9MB/s \n",
            "\u001b[?25hInstalling collected packages: jpype1\n",
            "  Found existing installation: JPype1 1.2.0\n",
            "    Uninstalling JPype1-1.2.0:\n",
            "      Successfully uninstalled JPype1-1.2.0\n",
            "Successfully installed jpype1-0.7.0\n"
          ],
          "name": "stdout"
        }
      ]
    },
    {
      "cell_type": "code",
      "metadata": {
        "id": "_j2Asqi6varT",
        "colab": {
          "base_uri": "https://localhost:8080/"
        },
        "outputId": "bef5677c-0d15-48c3-f12d-2630c617c11a"
      },
      "source": [
        "## train, validation, test 데이터 로딩\n",
        "!cp \"/content/gdrive/My Drive/NLP/utils.py\" \"/content\"\n",
        "\n",
        "import pickle\n",
        "import numpy as np\n",
        "with open(\"/content/gdrive/My Drive/NLP/Sentiment_prepro_data.pkl\", \"rb\") as f:\n",
        "  prepro_data = pickle.load(f)\n",
        "train_ids = prepro_data[\"train_ids\"]\n",
        "train_labels = prepro_data[\"train_labels\"]\n",
        "val_ids = prepro_data[\"val_ids\"]\n",
        "val_labels = prepro_data[\"val_labels\"]\n",
        "test_ids = prepro_data[\"test_ids\"]\n",
        "test_labels = prepro_data[\"test_labels\"]\n",
        "label_map = prepro_data[\"label_map\"]\n",
        "print(len(train_ids), len(train_labels), len(val_ids), len(val_labels), len(test_ids), len(test_labels))"
      ],
      "execution_count": null,
      "outputs": [
        {
          "output_type": "stream",
          "text": [
            "49998 49998 10000 10000 10000 10000\n"
          ],
          "name": "stdout"
        }
      ]
    },
    {
      "cell_type": "code",
      "metadata": {
        "id": "qZ695haKKAwv",
        "colab": {
          "base_uri": "https://localhost:8080/"
        },
        "outputId": "131018f4-f446-4f14-883a-4978097ee1a6"
      },
      "source": [
        "\"\"\" 한국어 형태소 분석 라이브러리 \"\"\"\n",
        "from konlpy.tag import Komoran\n",
        " \n",
        "komoran = Komoran()\n",
        " \n",
        "def tokenize(sentence):\n",
        "  return komoran.morphs(sentence)\n",
        " \n",
        "tokenize(\"미션 완료!!\")"
      ],
      "execution_count": null,
      "outputs": [
        {
          "output_type": "execute_result",
          "data": {
            "text/plain": [
              "['미션', '완료', '!!']"
            ]
          },
          "metadata": {
            "tags": []
          },
          "execution_count": 3
        }
      ]
    },
    {
      "cell_type": "code",
      "metadata": {
        "id": "vxq4ytVlwG6W"
      },
      "source": [
        "## 단어사전 & text_encoder 로딩\n",
        "from utils import TextEncoder\n",
        "import json\n",
        "with open(\"/content/gdrive/My Drive/NLP/Sentiment_vocab.json\", \"r\") as f:\n",
        "  new_vocab_list = json.loads(f.read())\n",
        "\n",
        "text_encoder = TextEncoder(new_vocab_list)"
      ],
      "execution_count": null,
      "outputs": []
    },
    {
      "cell_type": "code",
      "metadata": {
        "id": "hKW_G39ZyJhN"
      },
      "source": [
        "\"\"\" CBOW 워드벡터 로딩 \"\"\"\n",
        "\n",
        "## final_embeddings: 70002개 토큰에 대한 워드 벡터 매트릭스 shape=(70002, 128)\n",
        "\n",
        "with open(\"/content/gdrive/My Drive/NLP/vecs.tsv\") as f:\n",
        "  vecs = [v.strip() for v in f.readlines()]\n",
        "  final_embeddings = [v.split(\"\\t\") for v in vecs]\n",
        "  final_embeddings = np.array(final_embeddings, dtype=\"float32\")"
      ],
      "execution_count": null,
      "outputs": []
    },
    {
      "cell_type": "markdown",
      "metadata": {
        "id": "LhcHsul1IHxj"
      },
      "source": [
        "## #1. 모델 만들기\n",
        "<img src = \"https://github.com/seungyounglim/temporary/blob/master/fig_step3+4.PNG?raw=true\">"
      ]
    },
    {
      "cell_type": "markdown",
      "metadata": {
        "id": "FuckiGpMwsS6"
      },
      "source": [
        "#### Step 1. 모델 구조 만들기\n",
        "이제 실습 소개에서 보았던 모델 아키텍처를 tensorflow를 사용해 만들어보겠습니다.   \n",
        "아래의 Summary를 보고 직접 모델을 한 번 만들어보세요."
      ]
    },
    {
      "cell_type": "markdown",
      "metadata": {
        "id": "39iPCdwGTjzk"
      },
      "source": [
        "<font color=\"red\">MISSION : model의 summary를 확인하고 tf.keras.Sequential을 이용해 이와 동일한 모델을 만들어 보세요.   \n",
        "```\n",
        "_________________________________________________________________\n",
        "Layer (type)                 Output Shape              Param #   \n",
        "=================================================================\n",
        "embedding (Embedding)        (None, None, 128)         10993664  \n",
        "_________________________________________________________________\n",
        "simple_rnn (SimpleRNN)       (None, 50)                8950      \n",
        "_________________________________________________________________\n",
        "dense (Dense)                (None, 50)                2550      \n",
        "_________________________________________________________________\n",
        "dense_1 (Dense)              (None, 2)                 102       \n",
        "=================================================================\n",
        "Total params: 11,005,266\n",
        "Trainable params: 11,005,266\n",
        "Non-trainable params: 0\n",
        "_________________________________________________________________\n",
        "```\n",
        "</font>\n"
      ]
    },
    {
      "cell_type": "code",
      "metadata": {
        "id": "u21E5JCF75xX"
      },
      "source": [
        "## 쌓여있는 불필요한 것들을 삭제\n",
        "import tensorflow as tf\n",
        "tf.keras.backend.clear_session()"
      ],
      "execution_count": null,
      "outputs": []
    },
    {
      "cell_type": "markdown",
      "metadata": {
        "id": "JBL2kf43xCCW"
      },
      "source": [
        "<조건(🎧)>   \n",
        "1. Embedding: vocab_size -> embedding_dim으로 임베딩, Padding된 부분은 마스킹할 것 (mask_zero 옵션)\n",
        "2. SimpleRNN의 유닛(hidden_size)은 50차원이 되게 할 것\n",
        "3. 첫 번째 Dense layer에서는 relu activation을 사용할 것, hidden 차원은 50차원\n",
        "4. 두 번째 Dense layer에서는 결과가 [긍정, 부정] 카테고리에 대한 확률값과 같이 나오도록 할 것"
      ]
    },
    {
      "cell_type": "code",
      "metadata": {
        "id": "vcDr8GlZTqqV"
      },
      "source": [
        "from tensorflow.keras import Sequential\n",
        "from tensorflow.keras.layers import Embedding, SimpleRNN, Dense\n",
        "\n",
        "vocab_size = text_encoder.vocab_size # 단어사전 개수\n",
        "embedding_dim = final_embeddings.shape[1] # 임베딩 차원\n",
        "rnn_hidden_dim = 50 # RNN hidden_size\n",
        "final_dim = len(label_map)\n",
        "\n",
        "\"\"\" YOUR CODE HERE \"\"\"\n",
        "\n",
        "model = Sequential()\n",
        "## 1. Embedding layer 추가 ... (주의) padding된 부분은 마스킹 필요 -> mask_zero 옵션 참고 ## [★CODE 1★]\n",
        "model.add(Embedding(input_dim = vocab_size, output_dim = embedding_dim, mask_zero = True))\n",
        "\n",
        "## 2. SimpleRNN 레이어 추가 ## [★CODE 2★]\n",
        "model.add(SimpleRNN(rnn_hidden_dim))\n",
        "\n",
        "## 3. Fully Connected Layer 추가 (RNN 아웃풋에 대한 정보 가공) ## [★CODE 3★]\n",
        "model.add(Dense(rnn_hidden_dim, activation = \"relu\"))\n",
        "\n",
        "## 4. Fully Connected Layer 추가 (최종 태스크 수행을 위한 레이어) ## [★CODE 4★]\n",
        "model.add(Dense(final_dim, activation = \"softmax\"))\n"
      ],
      "execution_count": null,
      "outputs": []
    },
    {
      "cell_type": "code",
      "metadata": {
        "id": "qlpgWelVIMXu",
        "colab": {
          "base_uri": "https://localhost:8080/"
        },
        "outputId": "54a5f6f5-3bf7-45c9-aef4-b2e53d930a82"
      },
      "source": [
        "model.summary()"
      ],
      "execution_count": null,
      "outputs": [
        {
          "output_type": "stream",
          "text": [
            "Model: \"sequential\"\n",
            "_________________________________________________________________\n",
            "Layer (type)                 Output Shape              Param #   \n",
            "=================================================================\n",
            "embedding (Embedding)        (None, None, 128)         10987392  \n",
            "_________________________________________________________________\n",
            "simple_rnn (SimpleRNN)       (None, 50)                8950      \n",
            "_________________________________________________________________\n",
            "dense (Dense)                (None, 50)                2550      \n",
            "_________________________________________________________________\n",
            "dense_1 (Dense)              (None, 2)                 102       \n",
            "=================================================================\n",
            "Total params: 10,998,994\n",
            "Trainable params: 10,998,994\n",
            "Non-trainable params: 0\n",
            "_________________________________________________________________\n"
          ],
          "name": "stdout"
        }
      ]
    },
    {
      "cell_type": "markdown",
      "metadata": {
        "id": "-WQSqxZOy4mW"
      },
      "source": [
        "#### Step 2. CBOW로 학습된 워드 임베딩으로 모델 임베딩 Initialize 하기"
      ]
    },
    {
      "cell_type": "code",
      "metadata": {
        "id": "hF_nehjv7ejN",
        "colab": {
          "base_uri": "https://localhost:8080/"
        },
        "outputId": "015289a7-6402-438d-e960-976155fa02dc"
      },
      "source": [
        "## 단어사전 개수 체크\n",
        "org_vocab_size = final_embeddings.shape[0]\n",
        "new_vocab_size = len(new_vocab_list)\n",
        "\n",
        "print(\"CBOW initialize될 토큰 개수:\", org_vocab_size)\n",
        "print(\"새로운 임베딩의 one-hot-vector:\", new_vocab_size, \"\\n\")\n",
        "print(\"-> 랜덤 초기화해야 할 벡터 차원: {} x {}\".format(new_vocab_size-org_vocab_size, embedding_dim))\n"
      ],
      "execution_count": null,
      "outputs": [
        {
          "output_type": "stream",
          "text": [
            "CBOW initialize될 토큰 개수: 70002\n",
            "새로운 임베딩의 one-hot-vector: 85839 \n",
            "\n",
            "-> 랜덤 초기화해야 할 벡터 차원: 15837 x 128\n"
          ],
          "name": "stdout"
        }
      ]
    },
    {
      "cell_type": "markdown",
      "metadata": {
        "id": "DXHH4WYPzbIc"
      },
      "source": [
        "👉이번 모델의 임베딩에서 기존 CBOW로 학습된 워드벡터로 초기화할 부분을 제외한 나머지는 랜덤하게 초기화야 합니다.   \n",
        "👉즉, <랜덤 초기화해야 할 벡터 차원>에 있는 만큼의 매트릭스를 랜덤 initialize해야 하지요.\n",
        "\n",
        "numpy를 사용해 Uniform~[-1, 1]으로부터 랜덤 초기화된 워드벡터를 생성하겠습니다."
      ]
    },
    {
      "cell_type": "code",
      "metadata": {
        "id": "8nJZ8o6v7kih",
        "colab": {
          "base_uri": "https://localhost:8080/"
        },
        "outputId": "cec1811d-6a67-472f-db47-546421e18802"
      },
      "source": [
        "rand_initial = np.random.uniform(-1,1,size=[vocab_size-org_vocab_size,embedding_dim])\n",
        "rand_initial.shape"
      ],
      "execution_count": null,
      "outputs": [
        {
          "output_type": "execute_result",
          "data": {
            "text/plain": [
              "(15837, 128)"
            ]
          },
          "metadata": {
            "tags": []
          },
          "execution_count": 12
        }
      ]
    },
    {
      "cell_type": "markdown",
      "metadata": {
        "id": "NCci7Tksz-a1"
      },
      "source": [
        "그리고, CBOW로 학습된 final_embeddings 뒤에    \n",
        "방금 초기화한 rand_initial 매트릭스를 이어붙여 임베딩 매트릭스를 만들겠습니다. \n",
        "\n",
        "numpy 패키지의 append 기능을 사용하면 됩니다."
      ]
    },
    {
      "cell_type": "code",
      "metadata": {
        "id": "CeS8C3bx7yqC",
        "colab": {
          "base_uri": "https://localhost:8080/"
        },
        "outputId": "afad90e2-e89c-43c8-a5e7-4aa7d1c9af55"
      },
      "source": [
        "initial_weight = np.append(final_embeddings, rand_initial, axis = 0)\n",
        "initial_weight.shape"
      ],
      "execution_count": null,
      "outputs": [
        {
          "output_type": "execute_result",
          "data": {
            "text/plain": [
              "(85839, 128)"
            ]
          },
          "metadata": {
            "tags": []
          },
          "execution_count": 13
        }
      ]
    },
    {
      "cell_type": "markdown",
      "metadata": {
        "id": "zERPVBGl0PUE"
      },
      "source": [
        "👉initial_weight는 이번 모델의 임베딩 매트릭스 차원과 같은 것을 확인할 수 있습니다.   \n",
        "\n",
        "(🎧)이제 model의 weight에 우리가 만든 initial_weight를 할당하도록 하겠습니다. \n",
        "\n",
        "model.weight에 assign 함수를 사용하면 이 작업을 쉽게 할 수 있습니다.   \n"
      ]
    },
    {
      "cell_type": "code",
      "metadata": {
        "id": "Bw-yYwUi0a6k",
        "colab": {
          "base_uri": "https://localhost:8080/"
        },
        "outputId": "a463188d-2991-48c8-cd11-79104f7f7360"
      },
      "source": [
        "model.weights[0].assign(initial_weight) # model.weights[0] -> 임베딩 레이어에 해당\n",
        "model.get_weights()[0]"
      ],
      "execution_count": null,
      "outputs": [
        {
          "output_type": "execute_result",
          "data": {
            "text/plain": [
              "array([[-0.01368477, -0.02725928, -0.02415868, ..., -0.00882053,\n",
              "        -0.0210129 ,  0.04017795],\n",
              "       [-0.18259747,  0.13225454, -0.40374675, ..., -0.24515007,\n",
              "         0.5843183 ,  0.41799858],\n",
              "       [-0.21374829,  0.17352384,  0.4282032 , ...,  0.8664426 ,\n",
              "        -0.13740769, -0.5702798 ],\n",
              "       ...,\n",
              "       [ 0.49861586, -0.03549137,  0.74748164, ...,  0.84299487,\n",
              "         0.24528289,  0.92614007],\n",
              "       [ 0.6286997 ,  0.5318246 ,  0.04617601, ...,  0.8422901 ,\n",
              "        -0.64247733,  0.06996694],\n",
              "       [ 0.43504035,  0.5890022 ,  0.31281134, ...,  0.13570197,\n",
              "        -0.01109538, -0.8355334 ]], dtype=float32)"
            ]
          },
          "metadata": {
            "tags": []
          },
          "execution_count": 14
        }
      ]
    },
    {
      "cell_type": "code",
      "metadata": {
        "id": "N6Z2MNRoT_1a",
        "colab": {
          "base_uri": "https://localhost:8080/"
        },
        "outputId": "cc1b76c9-7139-469b-cf98-eac0fbfe2f67"
      },
      "source": [
        "final_embeddings"
      ],
      "execution_count": null,
      "outputs": [
        {
          "output_type": "execute_result",
          "data": {
            "text/plain": [
              "array([[-0.01368477, -0.02725928, -0.02415868, ..., -0.00882053,\n",
              "        -0.0210129 ,  0.04017795],\n",
              "       [-0.18259747,  0.13225454, -0.40374675, ..., -0.24515007,\n",
              "         0.5843183 ,  0.41799858],\n",
              "       [-0.21374829,  0.17352384,  0.4282032 , ...,  0.8664426 ,\n",
              "        -0.13740769, -0.5702798 ],\n",
              "       ...,\n",
              "       [ 0.02406064, -0.00335619,  0.03366775, ..., -0.16383906,\n",
              "        -0.02016309,  0.10198709],\n",
              "       [-0.13832492, -0.16530281,  0.03323587, ..., -0.12326222,\n",
              "         0.00226797, -0.07895309],\n",
              "       [ 0.15055574, -0.22581291,  0.17770346, ..., -0.2334886 ,\n",
              "        -0.12006498,  0.13866542]], dtype=float32)"
            ]
          },
          "metadata": {
            "tags": []
          },
          "execution_count": 15
        }
      ]
    },
    {
      "cell_type": "markdown",
      "metadata": {
        "id": "IPp_wZ2ddaMG"
      },
      "source": [
        "#### Step 3. 모델 컴파일하기"
      ]
    },
    {
      "cell_type": "markdown",
      "metadata": {
        "id": "FV84N0EKw66U"
      },
      "source": [
        "<font color=\"red\">MISSION : 적절한 Loss 함수와 Optimizer을 선택하고, \"accuracy\" 매트릭을 트래킹하도록 컴파일해주세요\n",
        "</font>"
      ]
    },
    {
      "cell_type": "code",
      "metadata": {
        "id": "V3nPJiGW1q92"
      },
      "source": [
        "\"\"\" Your Code Here \"\"\"\n",
        "model.compile(loss=\"sparse_categorical_crossentropy\", optimizer = \"adam\", metrics = \"accuracy\")\n"
      ],
      "execution_count": null,
      "outputs": []
    },
    {
      "cell_type": "markdown",
      "metadata": {
        "id": "9wQWmz8Xdi89"
      },
      "source": [
        "#### Step 4. 모델 학습하기 (🎧)\n",
        "모델 구조 선언과 컴파일이 완료되었습니다!    \n",
        "이제 model.fit()을 통해 학습을 진행하겠습니다.    \n",
        "이때 validation data의 loss를 트래킹하며 loss가 증가할 시 EarlyStopping을 하는 콜백을 사용하겠습니다."
      ]
    },
    {
      "cell_type": "code",
      "metadata": {
        "id": "v9vODjnL8KuZ"
      },
      "source": [
        "## early stopping callback 정의\n",
        "callback = tf.keras.callbacks.EarlyStopping(monitor='val_loss',  patience=1)"
      ],
      "execution_count": null,
      "outputs": []
    },
    {
      "cell_type": "code",
      "metadata": {
        "id": "R6jyqi5cdjJB",
        "colab": {
          "base_uri": "https://localhost:8080/"
        },
        "outputId": "c3505d05-7aff-42ab-f661-b2b0a21b8ef5"
      },
      "source": [
        "num_epochs = 5\n",
        "history = model.fit(train_ids, train_labels, epochs=num_epochs, batch_size=200,\n",
        "                    validation_data=(val_ids, val_labels), callbacks=[callback])"
      ],
      "execution_count": null,
      "outputs": [
        {
          "output_type": "stream",
          "text": [
            "Epoch 1/5\n",
            "250/250 [==============================] - 26s 103ms/step - loss: 0.5767 - accuracy: 0.6810 - val_loss: 0.4298 - val_accuracy: 0.8009\n",
            "Epoch 2/5\n",
            "250/250 [==============================] - 26s 104ms/step - loss: 0.3806 - accuracy: 0.8339 - val_loss: 0.4094 - val_accuracy: 0.8158\n",
            "Epoch 3/5\n",
            "250/250 [==============================] - 26s 103ms/step - loss: 0.3024 - accuracy: 0.8762 - val_loss: 0.4246 - val_accuracy: 0.8047\n"
          ],
          "name": "stdout"
        }
      ]
    },
    {
      "cell_type": "markdown",
      "metadata": {
        "id": "42MnPFs9O3Fr"
      },
      "source": [
        "#### Step 5. 훈련 결과 진단하기"
      ]
    },
    {
      "cell_type": "code",
      "metadata": {
        "id": "rtaGxpJa4SmM",
        "colab": {
          "base_uri": "https://localhost:8080/",
          "height": 541
        },
        "outputId": "b15d9ace-9294-49e9-8c57-cd9ad36d92a5"
      },
      "source": [
        "import matplotlib.pyplot as plt\n",
        "\n",
        "def plot_graphs(history, string):\n",
        "  plt.plot(history.history[string])\n",
        "  plt.plot(history.history['val_'+string])\n",
        "  plt.xlabel(\"Epochs\")\n",
        "  plt.ylabel(string)\n",
        "  plt.legend([string, 'val_'+string])\n",
        "  plt.show()\n",
        "  \n",
        "plot_graphs(history, \"accuracy\")\n",
        "plot_graphs(history, \"loss\")"
      ],
      "execution_count": null,
      "outputs": [
        {
          "output_type": "display_data",
          "data": {
            "image/png": "[encoded data removed]",
            "text/plain": [
              "<Figure size 432x288 with 1 Axes>"
            ]
          },
          "metadata": {
            "tags": [],
            "needs_background": "light"
          }
        },
        {
          "output_type": "display_data",
          "data": {
            "image/png": "[encoded data removed]",
            "text/plain": [
              "<Figure size 432x288 with 1 Axes>"
            ]
          },
          "metadata": {
            "tags": [],
            "needs_background": "light"
          }
        }
      ]
    },
    {
      "cell_type": "code",
      "metadata": {
        "id": "6q0dKaP01X_E",
        "colab": {
          "base_uri": "https://localhost:8080/"
        },
        "outputId": "963bba4b-81a4-42ae-999e-0cab979bd634"
      },
      "source": [
        "## Test Set에서의 accuracy 측정\n",
        "model.evaluate(test_ids, test_labels)"
      ],
      "execution_count": null,
      "outputs": [
        {
          "output_type": "stream",
          "text": [
            "313/313 [==============================] - 2s 7ms/step - loss: 0.4267 - accuracy: 0.8085\n"
          ],
          "name": "stdout"
        },
        {
          "output_type": "execute_result",
          "data": {
            "text/plain": [
              "[0.426712304353714, 0.8084999918937683]"
            ]
          },
          "metadata": {
            "tags": []
          },
          "execution_count": 21
        }
      ]
    },
    {
      "cell_type": "markdown",
      "metadata": {
        "id": "13AeKZe8JdIn"
      },
      "source": [
        "## #2. Inference 실행하기\n",
        "이제 학습이 완료된 모델로 새로운 문장에 대해 추론을 해보겠습니다."
      ]
    },
    {
      "cell_type": "code",
      "metadata": {
        "id": "SxopYLQtIkw1"
      },
      "source": [
        "\"\"\" 훈련된 모델로 다시 예측해보기 \"\"\"\n",
        "\n",
        "def inference(mymodel, sentence):\n",
        "  # 1. tokenizer로 문장 파싱\n",
        "  parsed_sent = tokenize(sentence)\n",
        "\n",
        "  # 2. vocab_dict를 이용해 인덱스로 변환\n",
        "  input_id1 = text_encoder.convert_tokens_to_ids(parsed_sent)\n",
        "  \n",
        "  # 단일 문장 추론이기 때문에 패딩할 필요가 없음\n",
        "  input_id = np.array([input_id1])\n",
        "  score = mymodel.predict(input_id)  #[1, 2]\n",
        "\n",
        "  print(\"** INPUT:\", sentence)\n",
        "  print(\"   -> 긍정: {:.2f} / 부정: {:.2f}\".format(score[0][0],score[0][1]))"
      ],
      "execution_count": null,
      "outputs": []
    },
    {
      "cell_type": "code",
      "metadata": {
        "id": "kvmzn7Ec9Vn3",
        "colab": {
          "base_uri": "https://localhost:8080/"
        },
        "outputId": "9aaab4e2-38a4-43b9-a54a-bb16a57ca65f"
      },
      "source": [
        "inference(model, \"올해의 영화!!! 최고!!!\")"
      ],
      "execution_count": null,
      "outputs": [
        {
          "output_type": "stream",
          "text": [
            "** INPUT: 올해의 영화!!! 최고!!!\n",
            "   -> 긍정: 0.97 / 부정: 0.03\n"
          ],
          "name": "stdout"
        }
      ]
    },
    {
      "cell_type": "code",
      "metadata": {
        "id": "ikMK6a_s9aT6",
        "colab": {
          "base_uri": "https://localhost:8080/"
        },
        "outputId": "0d4427f9-3e63-44a1-b387-8896ec3d38d0"
      },
      "source": [
        "inference(model, \"내가 감독해도 이거보단 낫겠네\")"
      ],
      "execution_count": null,
      "outputs": [
        {
          "output_type": "stream",
          "text": [
            "** INPUT: 내가 감독해도 이거보단 낫겠네\n",
            "   -> 긍정: 0.08 / 부정: 0.92\n"
          ],
          "name": "stdout"
        }
      ]
    },
    {
      "cell_type": "markdown",
      "metadata": {
        "id": "0C9eLc1iYwML"
      },
      "source": [
        "<font color=\"blue\">🙋‍♀️최근에 본 영화를 떠올리며 감상평을 써보세요! 모델이 잘 분류하는지 테스트해봅시다\n",
        "</font>"
      ]
    },
    {
      "cell_type": "code",
      "metadata": {
        "id": "mi_fIiVC4k8g",
        "colab": {
          "base_uri": "https://localhost:8080/"
        },
        "outputId": "6173e467-068f-45b2-b3ba-04fc12d54f45"
      },
      "source": [
        "inference(model, \"2회차 관람 예약이용 ㅠ\")"
      ],
      "execution_count": null,
      "outputs": [
        {
          "output_type": "stream",
          "text": [
            "** INPUT: 2회차 관람 예약이용 ㅠ\n",
            "   -> 긍정: 0.44 / 부정: 0.56\n"
          ],
          "name": "stdout"
        }
      ]
    },
    {
      "cell_type": "code",
      "metadata": {
        "id": "mof9RR05FUoU"
      },
      "source": [
        ""
      ],
      "execution_count": null,
      "outputs": []
    }
  ]
}