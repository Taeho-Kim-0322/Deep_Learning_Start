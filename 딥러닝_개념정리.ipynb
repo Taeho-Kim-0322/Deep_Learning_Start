{
  "nbformat": 4,
  "nbformat_minor": 0,
  "metadata": {
    "colab": {
      "name": "딥러닝 개념정리.ipynb",
      "provenance": [],
      "toc_visible": true,
      "authorship_tag": "ABX9TyOtptmM80OprBZZ+SM7i5AB",
      "include_colab_link": true
    },
    "kernelspec": {
      "name": "python3",
      "display_name": "Python 3"
    }
  },
  "cells": [
    {
      "cell_type": "markdown",
      "metadata": {
        "id": "view-in-github",
        "colab_type": "text"
      },
      "source": [
        "<a href=\"https://colab.research.google.com/github/Taeho-Kim-0322/Deep_Learning_Start/blob/master/%EB%94%A5%EB%9F%AC%EB%8B%9D_%EA%B0%9C%EB%85%90%EC%A0%95%EB%A6%AC.ipynb\" target=\"_parent\"><img src=\"https://colab.research.google.com/assets/colab-badge.svg\" alt=\"Open In Colab\"/></a>"
      ]
    },
    {
      "cell_type": "markdown",
      "metadata": {
        "id": "YtlH3SSRMfBM"
      },
      "source": [
        "# 201014\n",
        "## 왜 AI를 공부해야하나?\n",
        " - AI(Artificial Intelligence)\n",
        "\n",
        "## AI에 지시를 받는자 vs 내리는자\n",
        " - 넓은 의미의 AI : 자동화 할 수 있는 모든 프로그램\n",
        " - 좁은 의미의 AI : 딥러닝(인공신경망)을 기반으로 데이터만을 가지고 인간의 사고/행동까지 표방 가능한 기술\n",
        " - AI ⊃ ML ⊃ DL\n",
        " - AI : 자동화\n",
        " - ML : 데이터로 의사결정을 위한 패턴을 기계가 학습함\n",
        " - DL : 비정형 데이터로부터 특징을 추출하고 판단까지 기계가 수행한다\n",
        " - 데이터는 많아지고, 하드웨어는 나날이 발전하여 AI는 지속 발전한다"
      ]
    },
    {
      "cell_type": "markdown",
      "metadata": {
        "id": "vz0YXWDNMe-m"
      },
      "source": [
        "## What is Deep Learning?\n",
        " - ML : 정형 데이터 vs DL : 비정형의 Raw Data\n",
        " \n",
        " ### (e.g.) 강아지 vs 고양이 분류문제\n",
        "  - 전통적 ML : 인간의 지식을 주입한다 (온톨로지 방식, 룰베이스 등)\n",
        "  - 모라벨의 역설 : 사람에게 쉬운 것은 기계에게 어렵고, 기계에게 쉬운 것은 사람에게 어렵다\n",
        "  - DL : 사람이 그러하듯, 데이터를 통해 패턴을 배우자 ▶ 진정한 인공지능, DL\n",
        "  - 두뇌세포를 모사한 인공신경망(ANN, Artificial Neural Network) ▶ 인간이 사고하는 방식을 기계에게 학습시킨다\n",
        "\n",
        "## 결론 : 딥러닝 → 이미지, 동영상, Text, 음성과 같은 비정형 Data를 처리한다\n",
        " - 정해진 규칙이나 사전적 정의 없이도 Data로 패턴을 파악한다\n",
        " - 인간이 생각하는 방식에서 영감을 얻은 '인공신경망'을 이용하는 것이 딥러닝 기반의 인공지능이다"
      ]
    },
    {
      "cell_type": "markdown",
      "metadata": {
        "id": "VSmZPURMMe8T"
      },
      "source": [
        "## 딥러닝에서 '러닝'이란?\n",
        " - 오차를 적게 만드는 모델 → 기울기 절편을 찾는 '러닝'\n",
        " - 딥러닝은 수백 ~ 수십만 차원의 비정형 Data를 러닝해 최적의 모델을 만든다"
      ]
    },
    {
      "cell_type": "markdown",
      "metadata": {
        "id": "AcOay6fCMe2O"
      },
      "source": [
        "--------------------------------------------------------------------------------------------------------------"
      ]
    },
    {
      "cell_type": "markdown",
      "metadata": {
        "id": "yeNvEFr3PHps"
      },
      "source": [
        "# M1. 딥러닝 Basic\n",
        " ## 인공신경망 기본개념 & 개요\n",
        "   - 인공뉴런 연결 방식에 따라 FNN(Feedforward NN), CNN, RNN으로 나뉨"
      ]
    },
    {
      "cell_type": "markdown",
      "metadata": {
        "id": "wexyYBMfPHje"
      },
      "source": [
        ""
      ]
    }
  ]
}