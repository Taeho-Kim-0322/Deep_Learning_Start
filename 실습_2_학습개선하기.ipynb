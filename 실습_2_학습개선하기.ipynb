{
  "nbformat": 4,
  "nbformat_minor": 0,
  "metadata": {
    "colab": {
      "name": "실습_2_학습개선하기.ipynb",
      "provenance": [],
      "collapsed_sections": [],
      "include_colab_link": true
    },
    "kernelspec": {
      "name": "python3",
      "display_name": "Python 3"
    },
    "accelerator": "GPU"
  },
  "cells": [
    {
      "cell_type": "markdown",
      "metadata": {
        "id": "view-in-github",
        "colab_type": "text"
      },
      "source": [
        "<a href=\"https://colab.research.google.com/github/Taeho-Kim-0322/Deep_Learning_Start/blob/master/%EC%8B%A4%EC%8A%B5_2_%ED%95%99%EC%8A%B5%EA%B0%9C%EC%84%A0%ED%95%98%EA%B8%B0.ipynb\" target=\"_parent\"><img src=\"https://colab.research.google.com/assets/colab-badge.svg\" alt=\"Open In Colab\"/></a>"
      ]
    },
    {
      "cell_type": "markdown",
      "metadata": {
        "id": "2v7Ohf_TBgGH"
      },
      "source": [
        "#Activation / Loss / Optimizer"
      ]
    },
    {
      "cell_type": "code",
      "metadata": {
        "id": "VHSOO82gLgzc"
      },
      "source": [
        "import tensorflow as tf \n",
        "from tensorflow.keras.layers import Dense, Flatten \n",
        "from tensorflow.keras.models import Sequential"
      ],
      "execution_count": null,
      "outputs": []
    },
    {
      "cell_type": "markdown",
      "metadata": {
        "id": "uqiuIEVsCVng"
      },
      "source": [
        "# 기존 신경망 아키텍처에 조건 바꿔 적용해보기\n",
        "\n",
        "[tf.keras.activations docs](https://www.tensorflow.org/api_docs/python/tf/keras/activations)\n",
        "\n",
        "[tf.keras.losses docs](https://www.tensorflow.org/api_docs/python/tf/keras/losses)\n",
        "\n",
        "[tf.keras.optimizer docs](https://www.tensorflow.org/api_docs/python/tf/keras/optimizers)"
      ]
    },
    {
      "cell_type": "code",
      "metadata": {
        "id": "USG4Wm4lCPzE",
        "outputId": "2d7968d2-114a-4157-cdfb-54e0ea89bb4f",
        "colab": {
          "base_uri": "https://localhost:8080/",
          "height": 53
        }
      },
      "source": [
        "# data load\n",
        "mnist = tf.keras.datasets.mnist\n",
        "(x_train, y_train), (x_test, y_test) = mnist.load_data()\n",
        "\n",
        "# 0~255의 픽셀 값을 0~1로 조정\n",
        "x_train, x_test = x_train / 255.0, x_test / 255.0\n",
        "\n",
        "# shape 조정\n",
        "x_train = x_train.reshape(60000,28,28,1)\n",
        "x_test = x_test.reshape(10000,28,28,1)\n",
        "\n",
        "# 정답 label을 길이10 벡터화\n",
        "y_train = tf.one_hot(y_train, depth=10)\n",
        "y_test = tf.one_hot(y_test, depth=10)\n",
        "\n",
        "# validation set 별도 구분\n",
        "x_train, x_val = x_train[:50000], x_train[50000:]\n",
        "y_train, y_val = y_train[:50000], y_train[50000:]"
      ],
      "execution_count": null,
      "outputs": [
        {
          "output_type": "stream",
          "text": [
            "Downloading data from https://storage.googleapis.com/tensorflow/tf-keras-datasets/mnist.npz\n",
            "11493376/11490434 [==============================] - 0s 0us/step\n"
          ],
          "name": "stdout"
        }
      ]
    },
    {
      "cell_type": "markdown",
      "metadata": {
        "id": "XsFWfCqKCbdc"
      },
      "source": [
        "모델 구현하기"
      ]
    },
    {
      "cell_type": "code",
      "metadata": {
        "id": "rMqQHhsECPrb",
        "outputId": "3eab7434-2627-4ca7-e933-6e3c3943f6f8",
        "colab": {
          "base_uri": "https://localhost:8080/",
          "height": 395
        }
      },
      "source": [
        "model = tf.keras.models.Sequential([\n",
        "  tf.keras.layers.Flatten(input_shape=(28, 28, 1)),\n",
        "  tf.keras.layers.Dense(50, activation='sigmoid'),\n",
        "  tf.keras.layers.Dense(10, activation='softmax')\n",
        "])\n",
        "\n",
        "# 커스터마이징을 위해선 기존 방식 이용, 기본 기능 활용하려면 string으로 이름을 입력\n",
        "\n",
        "# 커스터마이징\n",
        "# sgd_optimizer = tf.keras.optimizers.SGD(learning_rate=1.0) \n",
        "# mse_loss = tf.keras.losses.MeanSquaredError()\n",
        "# model.compile(optimizer=sgd_optimizer, loss=mse_loss, metrics=['accuracy'])  \n",
        "\n",
        "# 기본 기능 활용\n",
        "model.compile(optimizer='sgd',loss='mean_squared_error',metrics=['accuracy'])\n",
        "\n",
        "history = model.fit(x_train, y_train, epochs=10, validation_data=(x_val, y_val), verbose=2)\n",
        "result = model.evaluate(x_test,  y_test, verbose=2)"
      ],
      "execution_count": null,
      "outputs": [
        {
          "output_type": "stream",
          "text": [
            "Epoch 1/10\n",
            "1563/1563 - 5s - loss: 0.0908 - accuracy: 0.1310 - val_loss: 0.0901 - val_accuracy: 0.1710\n",
            "Epoch 2/10\n",
            "1563/1563 - 4s - loss: 0.0897 - accuracy: 0.1927 - val_loss: 0.0891 - val_accuracy: 0.2424\n",
            "Epoch 3/10\n",
            "1563/1563 - 4s - loss: 0.0886 - accuracy: 0.2668 - val_loss: 0.0880 - val_accuracy: 0.3084\n",
            "Epoch 4/10\n",
            "1563/1563 - 4s - loss: 0.0876 - accuracy: 0.3169 - val_loss: 0.0869 - val_accuracy: 0.3474\n",
            "Epoch 5/10\n",
            "1563/1563 - 4s - loss: 0.0865 - accuracy: 0.3502 - val_loss: 0.0859 - val_accuracy: 0.3663\n",
            "Epoch 6/10\n",
            "1563/1563 - 4s - loss: 0.0854 - accuracy: 0.3610 - val_loss: 0.0847 - val_accuracy: 0.3786\n",
            "Epoch 7/10\n",
            "1563/1563 - 4s - loss: 0.0843 - accuracy: 0.3730 - val_loss: 0.0835 - val_accuracy: 0.3866\n",
            "Epoch 8/10\n",
            "1563/1563 - 4s - loss: 0.0831 - accuracy: 0.3809 - val_loss: 0.0823 - val_accuracy: 0.3990\n",
            "Epoch 9/10\n",
            "1563/1563 - 4s - loss: 0.0818 - accuracy: 0.3932 - val_loss: 0.0809 - val_accuracy: 0.4177\n",
            "Epoch 10/10\n",
            "1563/1563 - 4s - loss: 0.0805 - accuracy: 0.4150 - val_loss: 0.0796 - val_accuracy: 0.4365\n",
            "313/313 - 1s - loss: 0.0797 - accuracy: 0.4309\n"
          ],
          "name": "stdout"
        }
      ]
    },
    {
      "cell_type": "markdown",
      "metadata": {
        "id": "dI-GrVm-F09C"
      },
      "source": [
        "# 실습 MISSION\n",
        "위에서 작성했던 코드를 조건에 맞게 변경해보자!\n",
        "\n",
        "* activation을 relu로 변경\n",
        "* loss를 cross-entropy로 변경 ('categorical_crossentropy', 상기 링크 참고)\n",
        "* optimizer를 adam으로 변경"
      ]
    },
    {
      "cell_type": "code",
      "metadata": {
        "id": "4J9nrHuQIaE5",
        "outputId": "db8c9cb3-8519-47c8-b7bb-51e900b8a524",
        "colab": {
          "base_uri": "https://localhost:8080/",
          "height": 395
        }
      },
      "source": [
        "# MISSION을 작성하세요\n",
        "\n",
        "model = tf.keras.models.Sequential([\n",
        "  tf.keras.layers.Flatten(input_shape=(28, 28, 1)),\n",
        "  tf.keras.layers.Dense(50, activation='relu'),\n",
        "  tf.keras.layers.Dense(10, activation='softmax')\n",
        "])\n",
        "\n",
        "# 기본 기능 활용\n",
        "model.compile(optimizer='adam',loss='categorical_crossentropy',metrics=['accuracy'])\n",
        "\n",
        "history = model.fit(x_train, y_train, epochs=10, validation_data=(x_val, y_val), verbose=2)\n",
        "result = model.evaluate(x_test,  y_test, verbose=2)"
      ],
      "execution_count": null,
      "outputs": [
        {
          "output_type": "stream",
          "text": [
            "Epoch 1/10\n",
            "1563/1563 - 6s - loss: 0.3526 - accuracy: 0.9008 - val_loss: 0.1922 - val_accuracy: 0.9466\n",
            "Epoch 2/10\n",
            "1563/1563 - 5s - loss: 0.1777 - accuracy: 0.9478 - val_loss: 0.1484 - val_accuracy: 0.9586\n",
            "Epoch 3/10\n",
            "1563/1563 - 5s - loss: 0.1324 - accuracy: 0.9611 - val_loss: 0.1342 - val_accuracy: 0.9615\n",
            "Epoch 4/10\n",
            "1563/1563 - 5s - loss: 0.1065 - accuracy: 0.9684 - val_loss: 0.1146 - val_accuracy: 0.9658\n",
            "Epoch 5/10\n",
            "1563/1563 - 5s - loss: 0.0873 - accuracy: 0.9745 - val_loss: 0.1065 - val_accuracy: 0.9698\n",
            "Epoch 6/10\n",
            "1563/1563 - 5s - loss: 0.0748 - accuracy: 0.9777 - val_loss: 0.1029 - val_accuracy: 0.9708\n",
            "Epoch 7/10\n",
            "1563/1563 - 5s - loss: 0.0633 - accuracy: 0.9804 - val_loss: 0.0981 - val_accuracy: 0.9710\n",
            "Epoch 8/10\n",
            "1563/1563 - 5s - loss: 0.0551 - accuracy: 0.9838 - val_loss: 0.1021 - val_accuracy: 0.9717\n",
            "Epoch 9/10\n",
            "1563/1563 - 5s - loss: 0.0483 - accuracy: 0.9854 - val_loss: 0.1000 - val_accuracy: 0.9722\n",
            "Epoch 10/10\n",
            "1563/1563 - 5s - loss: 0.0429 - accuracy: 0.9871 - val_loss: 0.0981 - val_accuracy: 0.9745\n",
            "313/313 - 1s - loss: 0.0967 - accuracy: 0.9713\n"
          ],
          "name": "stdout"
        }
      ]
    },
    {
      "cell_type": "markdown",
      "metadata": {
        "id": "K2x4v59QIZoo"
      },
      "source": [
        "# 실습 MISSION\n",
        "다양한 optimizer를 테스트하고 수렴 속도를 확인하자\n",
        "\n",
        "위 MISSION에서 작성한 모델을 활용, \n",
        "두 개의 서로다른 모델(model_sgd, model_sgdm)을 만들어 아래 두 optimizer를 각각 적용하고 빌드하여 history를 다른이름으로 저장(history_sgd, history_sgdm)한 뒤 그래프로 나타내시오\n",
        "\n",
        "* SGD (기본설정)\n",
        "* SGD with learning rate 0.1, momentum 0.1\n",
        "\n",
        "(힌트, learning rate를 수정해보았던 것처럼 momentum 값도 커스터마이징할 수 있습니다!)"
      ]
    },
    {
      "cell_type": "code",
      "metadata": {
        "id": "zL4CMeKPKA7K",
        "outputId": "299515cf-6311-4334-8c39-ebabe9d3036e",
        "colab": {
          "base_uri": "https://localhost:8080/",
          "height": 845
        }
      },
      "source": [
        "# MISSION을 작성하세요\n",
        "# Model_sgd\n",
        "model_sgd = tf.keras.models.Sequential([\n",
        "  tf.keras.layers.Flatten(input_shape=(28, 28, 1)),\n",
        "  tf.keras.layers.Dense(50, activation='relu'),\n",
        "  tf.keras.layers.Dense(10, activation='softmax')\n",
        "])\n",
        "\n",
        "model_sgd.compile(optimizer='sgd',loss='categorical_crossentropy',metrics=['accuracy'])\n",
        "print('--------------------------Model_sgd--------------------------')\n",
        "history_sgd = model_sgd.fit(x_train, y_train, epochs=10, validation_data=(x_val, y_val), verbose=2)\n",
        "result_sgd = model_sgd.evaluate(x_test,  y_test, verbose=2)\n",
        "print(result_sgd)\n",
        "\n",
        "# Model_sgdm\n",
        "model_sgdm = tf.keras.models.Sequential([\n",
        "  tf.keras.layers.Flatten(input_shape=(28, 28, 1)),\n",
        "  tf.keras.layers.Dense(50, activation='relu'),\n",
        "  tf.keras.layers.Dense(10, activation='softmax')\n",
        "])\n",
        "\n",
        "\n",
        "sgdm_optimizer = tf.keras.optimizers.SGD(learning_rate=0.1, momentum=0.1)\n",
        "\n",
        "model_sgdm.compile(optimizer=sgdm_optimizer,loss='categorical_crossentropy',metrics=['accuracy'])\n",
        "print('--------------------------Model_sgdm--------------------------')\n",
        "history_sgdm = model_sgdm.fit(x_train, y_train, epochs=10, validation_data=(x_val, y_val), verbose=2)\n",
        "result_sgdm = model_sgdm.evaluate(x_test,  y_test, verbose=2)\n",
        "print(result_sgdm)"
      ],
      "execution_count": null,
      "outputs": [
        {
          "output_type": "stream",
          "text": [
            "--------------------------Model_sgd--------------------------\n",
            "Epoch 1/10\n",
            "1563/1563 - 5s - loss: 0.7530 - accuracy: 0.8090 - val_loss: 0.3758 - val_accuracy: 0.9039\n",
            "Epoch 2/10\n",
            "1563/1563 - 5s - loss: 0.3652 - accuracy: 0.8994 - val_loss: 0.3069 - val_accuracy: 0.9174\n",
            "Epoch 3/10\n",
            "1563/1563 - 5s - loss: 0.3124 - accuracy: 0.9134 - val_loss: 0.2749 - val_accuracy: 0.9236\n",
            "Epoch 4/10\n",
            "1563/1563 - 5s - loss: 0.2820 - accuracy: 0.9206 - val_loss: 0.2536 - val_accuracy: 0.9296\n",
            "Epoch 5/10\n",
            "1563/1563 - 5s - loss: 0.2606 - accuracy: 0.9258 - val_loss: 0.2390 - val_accuracy: 0.9332\n",
            "Epoch 6/10\n",
            "1563/1563 - 5s - loss: 0.2437 - accuracy: 0.9313 - val_loss: 0.2265 - val_accuracy: 0.9361\n",
            "Epoch 7/10\n",
            "1563/1563 - 5s - loss: 0.2296 - accuracy: 0.9356 - val_loss: 0.2164 - val_accuracy: 0.9412\n",
            "Epoch 8/10\n",
            "1563/1563 - 5s - loss: 0.2176 - accuracy: 0.9393 - val_loss: 0.2057 - val_accuracy: 0.9435\n",
            "Epoch 9/10\n",
            "1563/1563 - 5s - loss: 0.2066 - accuracy: 0.9421 - val_loss: 0.1974 - val_accuracy: 0.9462\n",
            "Epoch 10/10\n",
            "1563/1563 - 5s - loss: 0.1969 - accuracy: 0.9442 - val_loss: 0.1898 - val_accuracy: 0.9481\n",
            "313/313 - 1s - loss: 0.1902 - accuracy: 0.9444\n",
            "[0.19019277393817902, 0.9444000124931335]\n",
            "--------------------------Model_sgdm--------------------------\n",
            "Epoch 1/10\n",
            "1563/1563 - 5s - loss: 0.3395 - accuracy: 0.9026 - val_loss: 0.1892 - val_accuracy: 0.9470\n",
            "Epoch 2/10\n",
            "1563/1563 - 5s - loss: 0.1769 - accuracy: 0.9487 - val_loss: 0.1610 - val_accuracy: 0.9506\n",
            "Epoch 3/10\n",
            "1563/1563 - 5s - loss: 0.1347 - accuracy: 0.9609 - val_loss: 0.1289 - val_accuracy: 0.9628\n",
            "Epoch 4/10\n",
            "1563/1563 - 5s - loss: 0.1098 - accuracy: 0.9676 - val_loss: 0.1148 - val_accuracy: 0.9674\n",
            "Epoch 5/10\n",
            "1563/1563 - 5s - loss: 0.0948 - accuracy: 0.9717 - val_loss: 0.1115 - val_accuracy: 0.9684\n",
            "Epoch 6/10\n",
            "1563/1563 - 5s - loss: 0.0821 - accuracy: 0.9754 - val_loss: 0.1163 - val_accuracy: 0.9662\n",
            "Epoch 7/10\n",
            "1563/1563 - 5s - loss: 0.0726 - accuracy: 0.9779 - val_loss: 0.1007 - val_accuracy: 0.9695\n",
            "Epoch 8/10\n",
            "1563/1563 - 5s - loss: 0.0643 - accuracy: 0.9800 - val_loss: 0.1074 - val_accuracy: 0.9685\n",
            "Epoch 9/10\n",
            "1563/1563 - 5s - loss: 0.0583 - accuracy: 0.9825 - val_loss: 0.1333 - val_accuracy: 0.9616\n",
            "Epoch 10/10\n",
            "1563/1563 - 6s - loss: 0.0529 - accuracy: 0.9834 - val_loss: 0.1064 - val_accuracy: 0.9694\n",
            "313/313 - 1s - loss: 0.0911 - accuracy: 0.9712\n",
            "[0.09109987318515778, 0.9711999893188477]\n"
          ],
          "name": "stdout"
        }
      ]
    },
    {
      "cell_type": "code",
      "metadata": {
        "id": "elK3MZxTCPVp",
        "outputId": "f395e670-f0d1-43cf-e128-d6fb6b688f99",
        "colab": {
          "base_uri": "https://localhost:8080/",
          "height": 606
        }
      },
      "source": [
        "import matplotlib.pyplot as plt\n",
        "\n",
        "def plot_history(histories):\n",
        "  plt.figure(figsize=(16,10))\n",
        "\n",
        "  for name, history in histories:\n",
        "    plt.plot(history.epoch, history.history['val_loss'], label=name.title()) \n",
        "\n",
        "  plt.xlabel('Epochs')\n",
        "  plt.ylabel('Loss')\n",
        "  plt.legend()\n",
        "\n",
        "  plt.xlim([0,max(history.epoch)])\n",
        "  \n",
        "plot_history([('SGD', history_sgd),\n",
        "              ('SGD w/momentum', history_sgdm)])"
      ],
      "execution_count": null,
      "outputs": [
        {
          "output_type": "display_data",
          "data": {
            "image/png": "[encoded data removed]",
            "text/plain": [
              "<Figure size 1152x720 with 1 Axes>"
            ]
          },
          "metadata": {
            "tags": [],
            "needs_background": "light"
          }
        }
      ]
    }
  ]
}