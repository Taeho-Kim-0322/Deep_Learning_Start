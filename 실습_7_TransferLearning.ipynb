{
  "nbformat": 4,
  "nbformat_minor": 0,
  "metadata": {
    "accelerator": "GPU",
    "colab": {
      "name": "실습_7_TransferLearning.ipynb",
      "provenance": [],
      "collapsed_sections": [],
      "toc_visible": true,
      "include_colab_link": true
    },
    "kernelspec": {
      "display_name": "Python 3",
      "name": "python3"
    }
  },
  "cells": [
    {
      "cell_type": "markdown",
      "metadata": {
        "id": "view-in-github",
        "colab_type": "text"
      },
      "source": [
        "<a href=\"https://colab.research.google.com/github/Taeho-Kim-0322/Deep_Learning_Start/blob/master/%EC%8B%A4%EC%8A%B5_7_TransferLearning.ipynb\" target=\"_parent\"><img src=\"https://colab.research.google.com/assets/colab-badge.svg\" alt=\"Open In Colab\"/></a>"
      ]
    },
    {
      "cell_type": "markdown",
      "metadata": {
        "id": "bN8j2gFeJ2pY"
      },
      "source": [
        "#기존의 만들어진 모델을 가져와서 활용하자\n"
      ]
    },
    {
      "cell_type": "code",
      "metadata": {
        "id": "DHoDbEhJJ2RK"
      },
      "source": [
        ""
      ],
      "execution_count": null,
      "outputs": []
    },
    {
      "cell_type": "markdown",
      "metadata": {
        "id": "UjKgoB2v_Qt2"
      },
      "source": [
        "# Inference 환경구성(TF Hub와 Transfer Learning)"
      ]
    },
    {
      "cell_type": "markdown",
      "metadata": {
        "id": "CKFUvuEho9Th"
      },
      "source": [
        "## TF Hub 설치하기\n"
      ]
    },
    {
      "cell_type": "code",
      "metadata": {
        "id": "OGNpmn43C0O6"
      },
      "source": [
        "import tensorflow as tf \n",
        "import numpy as np\n",
        "import matplotlib.pylab as plt\n",
        "from tensorflow.keras.layers import Dense"
      ],
      "execution_count": null,
      "outputs": []
    },
    {
      "cell_type": "code",
      "metadata": {
        "id": "s4Z9vFE1IQ2Q"
      },
      "source": [
        "!pip install -U tf-hub-nightly\n",
        "import tensorflow_hub as hub\n"
      ],
      "execution_count": null,
      "outputs": []
    },
    {
      "cell_type": "markdown",
      "metadata": {
        "id": "s4YuF5HvpM1W"
      },
      "source": [
        "## ImageNet Classifier\n"
      ]
    },
    {
      "cell_type": "markdown",
      "metadata": {
        "id": "xEY_Ow5loN6q"
      },
      "source": [
        "### Classifier 다운로드\n",
        "\n",
        "Transfer Learning을 위한 네트워크 로드를 위해 `hub.module`을, 그리고 하나의 keras 층으로 감싸기 위해 `tf.keras.layers.Lambda`를 사용한다.\n",
        "\n",
        "TF 2.0에서 사용할 수 있는 Image Classifier는 [이 링크](https://tfhub.dev/s?q=tf2&module-type=image-classification)에서 확인할 수 있다."
      ]
    },
    {
      "cell_type": "code",
      "metadata": {
        "id": "y_6bGjoPtzau"
      },
      "source": [
        "IMAGE_SHAPE = (224, 224)\n",
        "\n",
        "mobilenet_url =\"https://tfhub.dev/google/tf2-preview/mobilenet_v2/classification/2\"\n",
        "# \n",
        "mobilenet = tf.keras.Sequential([\n",
        "    hub.KerasLayer(mobilenet_url, input_shape=IMAGE_SHAPE+(3,))\n",
        "])"
      ],
      "execution_count": null,
      "outputs": []
    },
    {
      "cell_type": "markdown",
      "metadata": {
        "id": "amfzqn1Oo7Om"
      },
      "source": [
        "## Simple Transfer Learning\n"
      ]
    },
    {
      "cell_type": "markdown",
      "metadata": {
        "id": "K-nIpVJ94xrw"
      },
      "source": [
        "TF Hub를 사용하면 사용자 개인의 데이터셋의 클래스를 인식하기 위한 top layer fine tuning을 쉽게 수행할 수 있다."
      ]
    },
    {
      "cell_type": "markdown",
      "metadata": {
        "id": "Z93vvAdGxDMD"
      },
      "source": [
        "### Dataset\n",
        "\n",
        "이 예제를 살펴보기 위해, TF의 flowers 데이터셋을 사용할 것이다."
      ]
    },
    {
      "cell_type": "code",
      "metadata": {
        "id": "DrIUV3V0xDL_"
      },
      "source": [
        "data_root = tf.keras.utils.get_file(\n",
        "  'flower_photos','https://storage.googleapis.com/download.tensorflow.org/example_images/flower_photos.tgz',\n",
        "   untar=True)"
      ],
      "execution_count": null,
      "outputs": []
    },
    {
      "cell_type": "markdown",
      "metadata": {
        "id": "jFHdp18ccah7"
      },
      "source": [
        "`tf.keras.preprocessing.image.image.ImageDataGenerator`를 사용하여 데이터를 로드\n",
        "\n",
        "> label : ['sunflowers', 'daisy', 'roses', 'tulips', 'dandelion']"
      ]
    },
    {
      "cell_type": "code",
      "metadata": {
        "id": "2PwQ_wYDcii9"
      },
      "source": [
        "image_generator = tf.keras.preprocessing.image.ImageDataGenerator(rescale=1/255)\n",
        "image_data = image_generator.flow_from_directory(str(data_root), batch_size=32, target_size=IMAGE_SHAPE)\n",
        "\n",
        "plt.imshow(image_data[0][0][0]) "
      ],
      "execution_count": null,
      "outputs": []
    },
    {
      "cell_type": "markdown",
      "metadata": {
        "id": "0gTN7M_GxDLx"
      },
      "source": [
        "### Image Batch에 대한 Classifier 실행"
      ]
    },
    {
      "cell_type": "markdown",
      "metadata": {
        "id": "O3fvrZR8xDLv"
      },
      "source": [
        "이제 이미지 배치에 대한 분류기를 실행하고, 얼마나 많은 예측들이 이미지에 잘 들어맞는지 확인해보자."
      ]
    },
    {
      "cell_type": "code",
      "metadata": {
        "id": "1ERDwVZy4Eqg"
      },
      "source": [
        "for image_batch, label_batch in image_data:\n",
        "  print(\"Image batch shape: \", image_batch.shape)\n",
        "  print(\"Label batch shape: \", label_batch.shape)\n",
        "  break"
      ],
      "execution_count": null,
      "outputs": []
    },
    {
      "cell_type": "code",
      "metadata": {
        "id": "Kv7ZwuR4xDLc"
      },
      "source": [
        "# 추론시키기\n",
        "result_batch = mobilenet.predict(image_batch) \n",
        "\n",
        "# 이미지넷 라벨명(1000개 카테고리) 다운로드\n",
        "labels_path = tf.keras.utils.get_file('ImageNetLabels.txt','https://storage.googleapis.com/download.tensorflow.org/data/ImageNetLabels.txt')\n",
        "imagenet_labels = np.array(open(labels_path).read().splitlines())\n",
        "\n",
        "# 추론 결과에 이미지넷 라벨명을 매칭\n",
        "predicted_class_names = imagenet_labels[np.argmax(result_batch, axis=-1)] "
      ],
      "execution_count": null,
      "outputs": []
    },
    {
      "cell_type": "code",
      "metadata": {
        "id": "IXTB22SpxDLP"
      },
      "source": [
        "#결과 시각화\n",
        "plt.figure(figsize=(10,9))\n",
        "plt.subplots_adjust(hspace=0.5)\n",
        "for n in range(30):\n",
        "  plt.subplot(6,5,n+1)\n",
        "  plt.imshow(image_batch[n])\n",
        "  plt.title(predicted_class_names[n])\n",
        "  plt.axis('off')\n",
        "_ = plt.suptitle(\"ImageNet predictions\")"
      ],
      "execution_count": null,
      "outputs": []
    },
    {
      "cell_type": "markdown",
      "metadata": {
        "id": "FUa3YkvhxDLM"
      },
      "source": [
        "결과가 완벽하진 않지만, 모델이 (\"daisy\"를 제외한) 모든 것을 대비해서 학습된 클래스가 아니라는 것을 고려하면 꽤나 합리적이다.\n",
        "\n",
        "하지만 결코 만족스럽진 않다..."
      ]
    },
    {
      "cell_type": "markdown",
      "metadata": {
        "id": "JzV457OXreQP"
      },
      "source": [
        "### Download Headless Model\n",
        "\n",
        "Image feature vector를 추출하기 위한 TF Hub 모델은 [이 링크](https://tfhub.dev/s?module-type=image-feature-vector&q=tf2)에서 확인할 수 있다.\n",
        "\n",
        "Feature extractor를 만들어보자."
      ]
    },
    {
      "cell_type": "markdown",
      "metadata": {
        "id": "RPVeouTksO9q"
      },
      "source": [
        "### Classifier head를 붙이기\n",
        "\n",
        "이제 mobilenet feature extractor 뒤에 새로운 classifier layer를 추가하자."
      ]
    },
    {
      "cell_type": "code",
      "metadata": {
        "id": "mGcY27fY1q3Q"
      },
      "source": [
        "mobilenet_feature_url = \"https://tfhub.dev/google/tf2-preview/mobilenet_v2/feature_vector/2\" \n",
        "\n",
        "new_model = tf.keras.Sequential([\n",
        "  hub.KerasLayer(mobilenet_feature_url, input_shape=(224,224,3)),\n",
        "  Dense(image_data.num_classes, activation='softmax')\n",
        "])\n",
        "\n",
        "new_model.summary() # 다운로드받은 mobilenet feature extractor는 non-trainable임을 알 수 있다"
      ],
      "execution_count": null,
      "outputs": []
    },
    {
      "cell_type": "markdown",
      "metadata": {
        "id": "OHbXQqIquFxQ"
      },
      "source": [
        "\n",
        "\n",
        "### 모델 학습\n",
        "\n",
        "학습과정의 환경을 설정하기 위해 compile한다."
      ]
    },
    {
      "cell_type": "code",
      "metadata": {
        "id": "3n0Wb9ylKd8R"
      },
      "source": [
        "new_model.compile(optimizer='adam', loss='categorical_crossentropy', metrics=['acc'])"
      ],
      "execution_count": null,
      "outputs": []
    },
    {
      "cell_type": "markdown",
      "metadata": {
        "id": "58-BLV7dupJA"
      },
      "source": [
        "2 epoch만 학습시켜보자.\n",
        "\n",
        "학습과정을 시각화하기 위해 아래 방법을 사용하면 Epoch단위가 아니라 배치 단위의 loss와 accuracy를 기록할 수 있다."
      ]
    },
    {
      "cell_type": "code",
      "metadata": {
        "id": "jZ54Gubac4Lu"
      },
      "source": [
        "class CollectBatchStats(tf.keras.callbacks.Callback):\n",
        "  def __init__(self):\n",
        "    self.batch_losses = []\n",
        "    self.batch_acc = []\n",
        "\n",
        "  def on_train_batch_end(self, batch, logs=None):\n",
        "    self.batch_losses.append(logs['loss'])\n",
        "    self.batch_acc.append(logs['acc'])\n",
        "    self.model.reset_metrics()"
      ],
      "execution_count": null,
      "outputs": []
    },
    {
      "cell_type": "code",
      "metadata": {
        "id": "EyMDJxt2HdHr"
      },
      "source": [
        "steps_per_epoch = np.ceil(image_data.samples/image_data.batch_size)\n",
        "\n",
        "batch_stats_callback = CollectBatchStats()\n",
        "\n",
        "history = new_model.fit(image_data, epochs=2, steps_per_epoch=steps_per_epoch, callbacks = [batch_stats_callback], verbose=1)"
      ],
      "execution_count": null,
      "outputs": []
    },
    {
      "cell_type": "code",
      "metadata": {
        "id": "A5RfS1QIIP-P"
      },
      "source": [
        "plt.figure()\n",
        "plt.ylabel(\"Loss\")\n",
        "plt.xlabel(\"Training Steps\")\n",
        "plt.ylim([0,2])\n",
        "plt.plot(batch_stats_callback.batch_losses)"
      ],
      "execution_count": null,
      "outputs": []
    },
    {
      "cell_type": "code",
      "metadata": {
        "id": "3uvX11avTiDg"
      },
      "source": [
        "plt.figure()\n",
        "plt.ylabel(\"Accuracy\")\n",
        "plt.xlabel(\"Training Steps\")\n",
        "plt.ylim([0,1])\n",
        "plt.plot(batch_stats_callback.batch_acc)"
      ],
      "execution_count": null,
      "outputs": []
    },
    {
      "cell_type": "markdown",
      "metadata": {
        "id": "kb__ZN8uFn-D"
      },
      "source": [
        "### Prediction 확인\n",
        "\n",
        "모델을 통해 이미지 배치를 실행시킨 뒤 튀어나온 인덱스들을 클래스 이름으로 바꾼다."
      ]
    },
    {
      "cell_type": "code",
      "metadata": {
        "id": "fCLVCpEjJ_VP"
      },
      "source": [
        "# 라벨 불러오기\n",
        "class_names = np.array(['Daisy', 'Dandelion', 'Roses', 'Sunflowers', 'Tulips'])\n",
        "\n",
        "# 새로운 모델로 추론\n",
        "predicted_batch = new_model.predict(image_batch)\n",
        "predicted_id = np.argmax(predicted_batch, axis=-1)\n",
        "\n",
        "# 추론 결과를 라벨 정보와 매핑\n",
        "predicted_label_batch = class_names[predicted_id]\n",
        "\n",
        "# 실제 라벨 (Ground Truth)\n",
        "true_label_id = np.argmax(label_batch, axis=-1)"
      ],
      "execution_count": null,
      "outputs": []
    },
    {
      "cell_type": "markdown",
      "metadata": {
        "id": "CkGbZxl9GZs-"
      },
      "source": [
        "결과를 시각화한다"
      ]
    },
    {
      "cell_type": "code",
      "metadata": {
        "id": "wC_AYRJU9NQe"
      },
      "source": [
        "plt.figure(figsize=(10,9))\n",
        "plt.subplots_adjust(hspace=0.5)\n",
        "for n in range(30):\n",
        "  plt.subplot(6,5,n+1)\n",
        "  plt.imshow(image_batch[n])\n",
        "  color = \"green\" if predicted_id[n] == true_label_id[n] else \"red\"\n",
        "  plt.title(predicted_label_batch[n].title(), color=color)\n",
        "  plt.axis('off')\n",
        "_ = plt.suptitle(\"Model predictions (green: correct, red: incorrect)\")"
      ],
      "execution_count": null,
      "outputs": []
    },
    {
      "cell_type": "markdown",
      "metadata": {
        "id": "uRcJnAABr22x"
      },
      "source": [
        "## Model export하기\n",
        "\n",
        "학습시킨 모델을 저장해보자."
      ]
    },
    {
      "cell_type": "code",
      "metadata": {
        "id": "PLcqg-RmsLno"
      },
      "source": [
        "model_name = '2020XXXX_model'\n",
        "\n",
        "export_path = \"/tmp/saved_models/\"+model_name\n",
        "\n",
        "new_model.save(export_path)\n",
        " "
      ],
      "execution_count": null,
      "outputs": []
    },
    {
      "cell_type": "markdown",
      "metadata": {
        "id": "AhQ9liIUsPsi"
      },
      "source": [
        "Export된 모델을 다시 로딩할 수 있고, 이는 동일한 결과를 도출한다."
      ]
    },
    {
      "cell_type": "code",
      "metadata": {
        "id": "7nI5fvkAQvbS"
      },
      "source": [
        "reloaded_model = tf.keras.models.load_model(export_path)\n",
        "\n",
        "reloaded_result = reloaded_model.predict(image_batch)"
      ],
      "execution_count": null,
      "outputs": []
    },
    {
      "cell_type": "code",
      "metadata": {
        "id": "jor83-LqI8xW"
      },
      "source": [
        "\n",
        "# 학습된 모델 추론 결과\n",
        "predicted_batch = new_model.predict(image_batch)\n",
        "predicted_id = np.argmax(predicted_batch, axis=-1)\n",
        "predicted_label_batch = class_names[predicted_id]\n",
        "print(predicted_label_batch)\n",
        "\n",
        "# 학습된 모델을 저장했다가 불러와 추론한 결과\n",
        "\n",
        "reloaded_predicted_batch = reloaded_model.predict(image_batch)\n",
        "reloaded_predicted_id = np.argmax(predicted_batch, axis=-1)\n",
        "reloaded_predicted_label_batch = class_names[predicted_id]\n",
        "print(reloaded_predicted_label_batch)"
      ],
      "execution_count": null,
      "outputs": []
    },
    {
      "cell_type": "markdown",
      "metadata": {
        "id": "TYZd4MNiV3Rc"
      },
      "source": [
        "저장된 모델로부터 추론을 수행할 수도 있고,[TFLite](https://www.tensorflow.org/lite/convert/) 나 [TFjs](https://github.com/tensorflow/tfjs-converter) 로 변환할 수 있다.\n"
      ]
    },
    {
      "cell_type": "code",
      "metadata": {
        "id": "CV-SF4Bvt89b"
      },
      "source": [
        ""
      ],
      "execution_count": null,
      "outputs": []
    }
  ]
}