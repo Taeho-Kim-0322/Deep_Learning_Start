{
  "nbformat": 4,
  "nbformat_minor": 0,
  "metadata": {
    "colab": {
      "name": "실습_6_RNN.ipynb",
      "provenance": [],
      "collapsed_sections": [],
      "toc_visible": true,
      "machine_shape": "hm",
      "include_colab_link": true
    },
    "kernelspec": {
      "name": "python3",
      "display_name": "Python 3"
    },
    "accelerator": "GPU"
  },
  "cells": [
    {
      "cell_type": "markdown",
      "metadata": {
        "id": "view-in-github",
        "colab_type": "text"
      },
      "source": [
        "<a href=\"https://colab.research.google.com/github/Taeho-Kim-0322/Deep_Learning_Start/blob/master/%EC%8B%A4%EC%8A%B5_6_RNN.ipynb\" target=\"_parent\"><img src=\"https://colab.research.google.com/assets/colab-badge.svg\" alt=\"Open In Colab\"/></a>"
      ]
    },
    {
      "cell_type": "markdown",
      "metadata": {
        "id": "RQuwLrfneJGq"
      },
      "source": [
        "# 감성분석 실습 ▶ 긍/부 분류\n",
        "\n",
        "<b>학습 목표:    \n",
        "- 한국어 자연어처리의 전반적인 FLOW를 이해한다.\n",
        "- keras.Sequantial 모듈을 이용해 간단한 감성분석 모델을 구현해 학습하고, 학습 결과를 진단한다.</b>\n",
        "\n",
        "\n",
        "\n",
        "\n",
        "\n",
        "\n"
      ]
    },
    {
      "cell_type": "markdown",
      "metadata": {
        "id": "1wg2UE1UiAne"
      },
      "source": [
        "\n",
        "<font color = \"red\"> \n",
        "QUIZ:   \n",
        "숫자만 인식할 수 있는 기계학습 모델에게 자연어를 인식시키는 방법은? </font>"
      ]
    },
    {
      "cell_type": "code",
      "metadata": {
        "id": "D5Cnajwnc73B"
      },
      "source": [
        "import numpy as np\n",
        "\n",
        "import tensorflow as tf\n",
        "\n",
        "from tensorflow.keras.models import Sequential\n",
        "from tensorflow.keras.layers import Embedding, Dense, LSTM \n",
        " "
      ],
      "execution_count": null,
      "outputs": []
    },
    {
      "cell_type": "markdown",
      "metadata": {
        "id": "GHdvwAFpEcpS"
      },
      "source": [
        "# # 1. 자연어처리 플로우 이해하기"
      ]
    },
    {
      "cell_type": "markdown",
      "metadata": {
        "id": "4RfgQ96FEjKz"
      },
      "source": [
        "### Step 1. Parsing\n",
        "- 문장을 음절(character)단위로 쪼개기\n"
      ]
    },
    {
      "cell_type": "code",
      "metadata": {
        "id": "SXHdDffgaggl"
      },
      "source": [
        "def tokenize(sentence): \n",
        "  return [char for char in sentence]"
      ],
      "execution_count": null,
      "outputs": []
    },
    {
      "cell_type": "code",
      "metadata": {
        "id": "l_qXa9a0Ehzv",
        "outputId": "87af51ac-573a-4dc3-a93b-f781f9dccf29",
        "colab": {
          "base_uri": "https://localhost:8080/",
          "height": 53
        }
      },
      "source": [
        "sentence1 = \"시간 가는 줄 알고 봤습니다.\"\n",
        "sentence2 = \"안보면 후회ㅠㅠ...\"\n",
        "parsed_sent1 = tokenize(sentence1)\n",
        "parsed_sent2 = tokenize(sentence2)\n",
        "print(\"문장 1:\", parsed_sent1)\n",
        "print(\"문장 2:\", parsed_sent2)"
      ],
      "execution_count": null,
      "outputs": [
        {
          "output_type": "stream",
          "text": [
            "문장 1: ['시', '간', ' ', '가', '는', ' ', '줄', ' ', '알', '고', ' ', '봤', '습', '니', '다', '.']\n",
            "문장 2: ['안', '보', '면', ' ', '후', '회', 'ㅠ', 'ㅠ', '.', '.', '.']\n"
          ],
          "name": "stdout"
        }
      ]
    },
    {
      "cell_type": "markdown",
      "metadata": {
        "id": "bdzQGbXMFJNu"
      },
      "source": [
        "### Step 2. 모델 인풋 만들기\n"
      ]
    },
    {
      "cell_type": "markdown",
      "metadata": {
        "id": "yLSdN7ROFdwN"
      },
      "source": [
        "#### 2-1) 음절 사전 만들기\n",
        "각 음절 캐릭터를 모델이 처리할 수 있는 정수 인덱스로 변환해야 함\n",
        "- 캐릭터를 정수로 매핑하는 사전 만들기\n",
        "- 배치 연산을 위해 필요한 Padding([PAD])과 Out of vocabulary([OOV]) 토큰을 항상 맨 앞에 추가해둠"
      ]
    },
    {
      "cell_type": "code",
      "metadata": {
        "id": "JaZkpgi9Eh5a",
        "outputId": "57aca435-3902-4d40-c407-517eb0d813d8",
        "colab": {
          "base_uri": "https://localhost:8080/",
          "height": 53
        }
      },
      "source": [
        "vocab_dict = {}\n",
        "vocab_dict[\"[PAD]\"] = 0\n",
        "vocab_dict[\"[OOV]\"] = 1\n",
        "i = 2\n",
        "for word in parsed_sent1:\n",
        "    if word not in vocab_dict.keys():\n",
        "        vocab_dict[word] = i\n",
        "        i += 1\n",
        "for word in parsed_sent2:\n",
        "    if word not in vocab_dict.keys():\n",
        "        vocab_dict[word] = i\n",
        "        i += 1\n",
        "print(\"Vocab Dictionary Example:\")\n",
        "print(vocab_dict)"
      ],
      "execution_count": null,
      "outputs": [
        {
          "output_type": "stream",
          "text": [
            "Vocab Dictionary Example:\n",
            "{'[PAD]': 0, '[OOV]': 1, '시': 2, '간': 3, ' ': 4, '가': 5, '는': 6, '줄': 7, '알': 8, '고': 9, '봤': 10, '습': 11, '니': 12, '다': 13, '.': 14, '안': 15, '보': 16, '면': 17, '후': 18, '회': 19, 'ㅠ': 20}\n"
          ],
          "name": "stdout"
        }
      ]
    },
    {
      "cell_type": "markdown",
      "metadata": {
        "id": "MCyqBSGYFjXx"
      },
      "source": [
        "#### 2-2) vocab_dict를 이용해 자연어를 정수 인덱스로 바꾸기\n",
        "- 위에서 만든 vocab_dict를 이용해 잘라놓은 문장을 모델에 태울 수 있는 정수 인덱스로 바꾸기\n",
        "- 기본적으로 LSTM은 가변적인 문장 길이를 인풋으로 받을 수 있지만, 배치 처리를 위해 <font color=\"blue\">max_seq_len</font>을 정해두고 길이를 통일함    \n",
        "    - max_seq_len 보다 짧은 문장에는 max_seq_len이 될 때까지 [PAD]에 해당하는 인덱스를 붙여줌\n",
        "    - max_seq_len 보다 긴 문장은 max_seq_len 개의 토큰만 남기고 자름    \n",
        "    - tensorflow.keras.preprocessing.sequence의 <font color=\"blue\">pad_sequences</font> 기능 사용"
      ]
    },
    {
      "cell_type": "code",
      "metadata": {
        "id": "0IfdgEZOEh3q",
        "outputId": "4d6f6b99-8d80-47e7-e56d-de44535996de",
        "colab": {
          "base_uri": "https://localhost:8080/",
          "height": 53
        }
      },
      "source": [
        "max_seq_len = 20\n",
        "\n",
        "input_id1 = [vocab_dict[word] for word in parsed_sent1]\n",
        "input_id2 = [vocab_dict[word] for word in parsed_sent2]\n",
        "\n",
        "# Padding\n",
        "from tensorflow.keras.preprocessing.sequence import pad_sequences\n",
        "input_ids = [input_id1, input_id2]\n",
        "input_ids = pad_sequences(input_ids, maxlen=max_seq_len, value = vocab_dict['[PAD]']) \n",
        "print(input_ids)"
      ],
      "execution_count": null,
      "outputs": [
        {
          "output_type": "stream",
          "text": [
            "[[ 0  0  0  0  2  3  4  5  6  4  7  4  8  9  4 10 11 12 13 14]\n",
            " [ 0  0  0  0  0  0  0  0  0 15 16 17  4 18 19 20 20 14 14 14]]\n"
          ],
          "name": "stdout"
        }
      ]
    },
    {
      "cell_type": "markdown",
      "metadata": {
        "id": "jGyE471IGDs1"
      },
      "source": [
        "### Step3. 모델 만들기\n",
        "\n",
        "- 임베딩 레이어 : Embedding()\n",
        "- LSTM : LSTM()\n",
        "- FC layer : Dense()   \n",
        "- LSTM을 사용해 문장을 인코딩하고, Fully Connected layer을 두 층 쌓아 최종 output을 생성"
      ]
    },
    {
      "cell_type": "markdown",
      "metadata": {
        "id": "Lpms4Rtw3ZLo"
      },
      "source": [
        "![주석 2020-10-15 150722.jpg](data:image/jpeg;base64,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)"
      ]
    },
    {
      "cell_type": "code",
      "metadata": {
        "id": "cMgZkCRJSaF2",
        "outputId": "7f41049e-e752-4fd8-8a85-8eba0af4f49b",
        "colab": {
          "base_uri": "https://localhost:8080/",
          "height": 305
        }
      },
      "source": [
        "vocab_size = len(vocab_dict)        # 단어사전 개수\n",
        "embedding_dim = 30     # 임베딩 차원 ▶ 글자 하나를 몇 차원의 벡터로 변환할지에 대한 hyperparameter\n",
        "lstm_hidden_dim = 50   # LSTM hidden_size\n",
        "dense_dim = 32         # FC layer size\n",
        "batch_size = 2         # batch size\n",
        "\n",
        "model = Sequential([\n",
        "    Embedding(vocab_size, embedding_dim), # 정수로 표현된 단어를 embedding_dim 만큼의 벡터로 변환\n",
        "    LSTM(lstm_hidden_dim),\n",
        "    Dense(dense_dim, activation='relu'),\n",
        "    Dense(2, activation='softmax')\n",
        "])\n",
        "\n",
        "model.summary()"
      ],
      "execution_count": null,
      "outputs": [
        {
          "output_type": "stream",
          "text": [
            "Model: \"sequential_1\"\n",
            "_________________________________________________________________\n",
            "Layer (type)                 Output Shape              Param #   \n",
            "=================================================================\n",
            "embedding_1 (Embedding)      (None, None, 30)          630       \n",
            "_________________________________________________________________\n",
            "lstm_1 (LSTM)                (None, 50)                16200     \n",
            "_________________________________________________________________\n",
            "dense_2 (Dense)              (None, 32)                1632      \n",
            "_________________________________________________________________\n",
            "dense_3 (Dense)              (None, 2)                 66        \n",
            "=================================================================\n",
            "Total params: 18,528\n",
            "Trainable params: 18,528\n",
            "Non-trainable params: 0\n",
            "_________________________________________________________________\n"
          ],
          "name": "stdout"
        }
      ]
    },
    {
      "cell_type": "markdown",
      "metadata": {
        "id": "rn2t4PeDRjfI"
      },
      "source": [
        "- <b>model.predict()</b> 메서드를 사용하면 인풋에 대해 모델의 예측값을 얻을 수 있음.   "
      ]
    },
    {
      "cell_type": "code",
      "metadata": {
        "id": "TnagVZncO9U-",
        "outputId": "04be7dd7-1397-439a-c43e-bafed9b8341f",
        "colab": {
          "base_uri": "https://localhost:8080/",
          "height": 53
        }
      },
      "source": [
        "scores = model.predict(input_ids)\n",
        "\n",
        "for i, s in enumerate(scores):\n",
        "    print(\"문장 {} → 긍정: {:.2f} / 부정: {:.2f}\".format(i, s[0],s[1]))"
      ],
      "execution_count": null,
      "outputs": [
        {
          "output_type": "stream",
          "text": [
            "문장 0 → 긍정: 0.50 / 부정: 0.50\n",
            "문장 1 → 긍정: 0.50 / 부정: 0.50\n"
          ],
          "name": "stdout"
        }
      ]
    },
    {
      "cell_type": "markdown",
      "metadata": {
        "id": "btopfDwJv2l3"
      },
      "source": [
        "# # 2. LSTM으로 감성분석 모델 훈련하기"
      ]
    },
    {
      "cell_type": "markdown",
      "metadata": {
        "id": "3YJfJrzDPG1H"
      },
      "source": [
        "### Step 0. 학습 데이터 준비하기\n",
        "<img src = \"https://github.com/seungyounglim/temporary/blob/master/image_5.PNG?raw=true\">    \n",
        "\n",
        "- 네이버 영화 감성분석 데이터셋 활용\n",
        "- 훈련 데이터 150,000건, 테스트 데이터 50,000건"
      ]
    },
    {
      "cell_type": "code",
      "metadata": {
        "id": "LHygGkDeiyUZ",
        "outputId": "3eccd74b-e9fd-40d2-d711-e984c458f2e4",
        "colab": {
          "base_uri": "https://localhost:8080/",
          "height": 413
        }
      },
      "source": [
        "\"\"\" 네이버 영화 리뷰 데이터셋 다운로드 \"\"\"\n",
        "!wget https://raw.githubusercontent.com/e9t/nsmc/master/ratings_train.txt\n",
        "!wget https://raw.githubusercontent.com/e9t/nsmc/master/ratings_test.txt"
      ],
      "execution_count": null,
      "outputs": [
        {
          "output_type": "stream",
          "text": [
            "--2020-10-15 06:12:07--  https://raw.githubusercontent.com/e9t/nsmc/master/ratings_train.txt\n",
            "Resolving raw.githubusercontent.com (raw.githubusercontent.com)... 151.101.0.133, 151.101.64.133, 151.101.128.133, ...\n",
            "Connecting to raw.githubusercontent.com (raw.githubusercontent.com)|151.101.0.133|:443... connected.\n",
            "HTTP request sent, awaiting response... 200 OK\n",
            "Length: 14628807 (14M) [text/plain]\n",
            "Saving to: ‘ratings_train.txt.2’\n",
            "\n",
            "ratings_train.txt.2 100%[===================>]  13.95M  31.5MB/s    in 0.4s    \n",
            "\n",
            "2020-10-15 06:12:07 (31.5 MB/s) - ‘ratings_train.txt.2’ saved [14628807/14628807]\n",
            "\n",
            "--2020-10-15 06:12:07--  https://raw.githubusercontent.com/e9t/nsmc/master/ratings_test.txt\n",
            "Resolving raw.githubusercontent.com (raw.githubusercontent.com)... 151.101.0.133, 151.101.64.133, 151.101.128.133, ...\n",
            "Connecting to raw.githubusercontent.com (raw.githubusercontent.com)|151.101.0.133|:443... connected.\n",
            "HTTP request sent, awaiting response... 200 OK\n",
            "Length: 4893335 (4.7M) [text/plain]\n",
            "Saving to: ‘ratings_test.txt.2’\n",
            "\n",
            "ratings_test.txt.2  100%[===================>]   4.67M  13.8MB/s    in 0.3s    \n",
            "\n",
            "2020-10-15 06:12:08 (13.8 MB/s) - ‘ratings_test.txt.2’ saved [4893335/4893335]\n",
            "\n"
          ],
          "name": "stdout"
        }
      ]
    },
    {
      "cell_type": "code",
      "metadata": {
        "id": "HpUMj2VCv_Xu",
        "outputId": "716d447f-4455-40c6-c96a-1dd3fab244b6",
        "colab": {
          "base_uri": "https://localhost:8080/",
          "height": 53
        }
      },
      "source": [
        "\"\"\" 데이터 읽어오기 \"\"\"\n",
        "\n",
        "with open(\"ratings_train.txt\") as f:\n",
        "    raw_train = f.readlines()\n",
        "with open(\"ratings_test.txt\") as f:\n",
        "    raw_test = f.readlines()\n",
        "raw_train = [t.split('\\t') for t in raw_train[1:]]\n",
        "raw_test = [t.split('\\t') for t in raw_test[1:]]\n",
        "\n",
        "FULL_TRAIN = []\n",
        "for line in raw_train:\n",
        "    FULL_TRAIN.append([line[0], line[1], int(line[2].strip())])\n",
        "FULL_TEST = []\n",
        "for line in raw_test:\n",
        "    FULL_TEST.append([line[0], line[1], int(line[2].strip())])\n",
        "print(\"FULL_TRAIN: {}개 (긍정 {}, 부정 {})\".format(len(FULL_TRAIN), sum([t[2] for t in FULL_TRAIN]), len(FULL_TRAIN)-sum([t[2] for t in FULL_TRAIN])), FULL_TRAIN[0])\n",
        "print(\"FULL_TEST : {}개 (긍정 {}, 부정 {})\".format(len(FULL_TEST), sum([t[2] for t in FULL_TEST]), len(FULL_TEST)-sum([t[2] for t in FULL_TEST])), FULL_TEST[0])"
      ],
      "execution_count": null,
      "outputs": [
        {
          "output_type": "stream",
          "text": [
            "FULL_TRAIN: 150000개 (긍정 74827, 부정 75173) ['9976970', '아 더빙.. 진짜 짜증나네요 목소리', 0]\n",
            "FULL_TEST : 50000개 (긍정 25173, 부정 24827) ['6270596', '굳 ㅋ', 1]\n"
          ],
          "name": "stdout"
        }
      ]
    },
    {
      "cell_type": "markdown",
      "metadata": {
        "id": "T1IWVSphmZ42"
      },
      "source": [
        "### label \n",
        "> 0: 부정\n",
        "\n",
        "> 1: 긍정"
      ]
    },
    {
      "cell_type": "markdown",
      "metadata": {
        "id": "JCyE6Ia5uopA"
      },
      "source": [
        "<img src = \"https://github.com/seungyounglim/temporary/blob/master/image_6.PNG?raw=true\">  \n",
        "- 시간 관계상 train 중 50,000건을 학습데이터, 10,000건을 검증 데이터로 사용\n",
        "- test 중 10,000건만 샘플링하여 최종 성능 테스트에 사용"
      ]
    },
    {
      "cell_type": "code",
      "metadata": {
        "id": "k_xG06TPI9vl",
        "outputId": "98a958f9-e097-4149-f704-e032ef054da1",
        "colab": {
          "base_uri": "https://localhost:8080/",
          "height": 91
        }
      },
      "source": [
        "import random\n",
        "random.seed(1)\n",
        "random.shuffle(FULL_TRAIN)\n",
        "random.shuffle(FULL_TEST)\n",
        "train = FULL_TRAIN[:50000]\n",
        "val = FULL_TRAIN[50000:60000]\n",
        "test = FULL_TEST[:10000]\n",
        "print(\"train     : {}개 (긍정 {}, 부정 {})\".format(len(train), sum([t[2] for t in train]), len(train)-sum([t[2] for t in train])), train[0])\n",
        "print(\"validation: {}개 (긍정 {}, 부정 {})\".format(len(val), sum([t[2] for t in val]), len(val)-sum([t[2] for t in val])), val[0])\n",
        "print(\"test      : {}개 (긍정 {}, 부정 {})\".format(len(test), sum([t[2] for t in test]), len(test)-sum([t[2] for t in test])), test[0])"
      ],
      "execution_count": null,
      "outputs": [
        {
          "output_type": "stream",
          "text": [
            "train     : 50000개 (긍정 24914, 부정 25086) ['7570203', '장쯔이 그때나 지금이나 이뻤다', 1]\n",
            "validation: 10000개 (긍정 4962, 부정 5038) ['8413570', '거지 발싸개같은 영화도 자막 파일이 넘쳐나는게 허다한데, 왜 이 좋은 영화는 자막을 구할수가 없을까.. 60, 70년대의 프랑스, 이탈리아, 독일의 수작들이 자막이 없어서 수OO이 지난 지금도 일반 대중에게 제대로 알려지지 못했다.', 1]\n",
            "test      : 10000개 (긍정 5027, 부정 4973) ['1458790', '허우 샤오시엔 작품은 모두 만점!', 1]\n"
          ],
          "name": "stdout"
        }
      ]
    },
    {
      "cell_type": "markdown",
      "metadata": {
        "id": "7jykZkziwnd2"
      },
      "source": [
        "## Step 1. Parsing\n",
        "- Train/ Test의 문장을 음절단위로 파싱하여 train_sentences, test_sentences에 저장해둠.\n",
        "- categorical_crossentropy loss를 사용하기 위해 정답 라벨은 One-hot encoding 형식으로 저장\n",
        "   - 부정 -> [1, 0]\n",
        "   - 긍정 -> [0, 1]"
      ]
    },
    {
      "cell_type": "code",
      "metadata": {
        "id": "D9HFloKROOnT",
        "outputId": "1a69eb3e-534b-41f4-b9f2-b09148fb3ab7",
        "colab": {
          "base_uri": "https://localhost:8080/",
          "height": 361
        }
      },
      "source": [
        "train_sentences = []\n",
        "val_sentences = []\n",
        "test_sentences = []\n",
        "\n",
        "# 추후 학습/ 테스트를 위해 라벨 정보 저장해둠\n",
        "train_label_ids = []\n",
        "val_label_ids = []\n",
        "test_label_ids = []\n",
        "\n",
        "print(\"start tokenizing TRAIN sentences\")\n",
        "for i, line in enumerate(train):\n",
        "    words = tokenize(line[1])\n",
        "    train_sentences.append(words)\n",
        "    if line[2] == 0: # 부정\n",
        "      train_label_ids.append([1,0])\n",
        "    else: #긍정\n",
        "      train_label_ids.append([0,1])\n",
        "\n",
        "    if (i+1) % 5000 == 0: print(\"... {}/{} done\".format(i+1, len(train)))\n",
        "\n",
        "print(\"example:\", train_sentences[-1], train_label_ids[-1], \"\\n\")\n",
        "\n",
        "print(\"start tokenizing VALIDATION sentences\")\n",
        "\n",
        "for line in val:\n",
        "    words = tokenize(line[1])\n",
        "    val_sentences.append(words)\n",
        "    if line[2] == 0: # 부정\n",
        "      val_label_ids.append([1,0])\n",
        "    else: #긍정\n",
        "      val_label_ids.append([0,1])\n",
        "print(\"... done\\n\")\n",
        "\n",
        "print(\"start tokenizing TEST sentences\")\n",
        "for line in test:\n",
        "    words = tokenize(line[1])\n",
        "    test_sentences.append(words)\n",
        "    if line[2] == 0: # 부정\n",
        "      test_label_ids.append([1,0])\n",
        "    else: #긍정\n",
        "      test_label_ids.append([0,1])\n",
        "\n",
        "print(\"... done\")"
      ],
      "execution_count": null,
      "outputs": [
        {
          "output_type": "stream",
          "text": [
            "start tokenizing TRAIN sentences\n",
            "... 5000/50000 done\n",
            "... 10000/50000 done\n",
            "... 15000/50000 done\n",
            "... 20000/50000 done\n",
            "... 25000/50000 done\n",
            "... 30000/50000 done\n",
            "... 35000/50000 done\n",
            "... 40000/50000 done\n",
            "... 45000/50000 done\n",
            "... 50000/50000 done\n",
            "example: ['이', '제', '껏', ' ', '본', ' ', '일', '본', ' ', '영', '화', '중', '에', '서', ' ', '제', '일', ' ', '별', '로', '네', '요', ' ', '3', '명', ' ', '다', ' ', '소', '신', '이', '라', '곤', ' ', '없', '고', ' ', '결', '혼', ' ', '못', '해', ' ', '안', '달', '난', ' ', '여', '자', '들', '이', ' ', '우', '울', '함', '만', ' ', '뿜', '어', '내', '다', ' ', '마', '지', '막', '에', ' ', '일', '본', ' ', '특', '유', '의', ' ', '감', '동', '멘', '트', '로', ' ', '마', '무', '리', ' ', '시', '간', '이', ' ', '아', '깝', '네', '요'] [1, 0] \n",
            "\n",
            "start tokenizing VALIDATION sentences\n",
            "... done\n",
            "\n",
            "start tokenizing TEST sentences\n",
            "... done\n"
          ],
          "name": "stdout"
        }
      ]
    },
    {
      "cell_type": "markdown",
      "metadata": {
        "id": "58bDXwmsH2x6"
      },
      "source": [
        "##Step 2. 모델 인풋 만들기"
      ]
    },
    {
      "cell_type": "markdown",
      "metadata": {
        "id": "UFXWtJDWdH1E"
      },
      "source": [
        "#### 2-1) 단어사전 만들기\n",
        "- 훈련 데이터 문장에 있는 음절을 이용해 구축\n",
        "- (일반적으로는 더 많은 코퍼스에 대해 구축된 사전을 사용하지만, 편의상 훈련셋만으로 진행)\n",
        "\n",
        "# 실습 MISSION\n",
        "[CODE] 부분을 채워넣어 단어사전을 만들고 생성된 단어사전의 크기를 확인해보세요. "
      ]
    },
    {
      "cell_type": "code",
      "metadata": {
        "id": "zjafI6Wc03CL"
      },
      "source": [
        ""
      ],
      "execution_count": null,
      "outputs": []
    },
    {
      "cell_type": "code",
      "metadata": {
        "id": "VAfNMCpgwdww",
        "outputId": "54572dd3-6af6-42b0-9a55-1ea2033dc666",
        "colab": {
          "base_uri": "https://localhost:8080/",
          "height": 35
        }
      },
      "source": [
        "from tqdm import tqdm\n",
        "\n",
        "vocab_dict = {}\n",
        "vocab_dict[\"[PAD]\"] = 0\n",
        "vocab_dict[\"[OOV]\"] = 1\n",
        "i = 2\n",
        "for sentence in train_sentences:\n",
        "    for word in sentence:\n",
        "        if word not in vocab_dict.keys():\n",
        "            ## [CODE] ##\n",
        "            vocab_dict[word] = i\n",
        "            ############\n",
        "            i += 1\n",
        "print(\"Vocab Dictionary Size:\", len(vocab_dict))"
      ],
      "execution_count": null,
      "outputs": [
        {
          "output_type": "stream",
          "text": [
            "Vocab Dictionary Size: 2343\n"
          ],
          "name": "stdout"
        }
      ]
    },
    {
      "cell_type": "markdown",
      "metadata": {
        "id": "Mu_DabQjQYFK"
      },
      "source": [
        "#### 2-2) vocab_dict를 이용해 자연어를 정수 인덱스로 바꾸기\n",
        "\n",
        "# 실습 MISSION\n",
        "> 빈칸을 채워봅시다!\n",
        "\n",
        "음절 단위로 쪼개진 문장들 (tokenized_sentences)을 인풋으로 받아 다음을 처리하는 함수를 만드시오\n",
        "\n",
        "* 사전에 없는 음절은 [OOV] 인덱스로 처리하기   \n",
        "* 사전에서 매핑되는 음절은 해당 인덱스로 바꾸기\n",
        "* max_seq_len만큼 문장 길이 맞추고 이보다 짧은 문장은 [PAD] 인덱스로 패딩하기\n"
      ]
    },
    {
      "cell_type": "code",
      "metadata": {
        "id": "iHI2uFCUojkw"
      },
      "source": [
        "def make_input_ids(tokenized_sentences, max_seq_len = 50):\n",
        "  \n",
        "  num_oov = 0 # OOV 발생 개수를 셈\n",
        "  result_input_ids = [] # result_input_ids : 정수 인덱스로 변환한 문장들의 리스트\n",
        "\n",
        "  for sentence in tokenized_sentences :\n",
        "      \"\"\" vocab_dict를 사용해 정수로 변환 \"\"\" \n",
        "      input_ids = []\n",
        "      for word in sentence:\n",
        "          if word not in vocab_dict:   ## 사전에 없는 음절은 OOV 처리\n",
        "              input_ids.append(vocab_dict['[OOV]']) \n",
        "              num_oov += 1\n",
        "          else:                       ## 사전에 있는 음절은?\n",
        "              input_ids.append(vocab_dict[word]) ##  vocab_dict 사전에서 토큰 찾아서 붙이기\n",
        "      \n",
        "      result_input_ids.append(input_ids)\n",
        "      \n",
        "  \"\"\" max_seq_len을 넘는 문장은 절단, 모자르는 것은 PADDING \"\"\"\n",
        "  result_input_ids = pad_sequences(result_input_ids, maxlen=max_seq_len, value= vocab_dict['[PAD]']) ##  padding 하기\n",
        "\n",
        "  return result_input_ids, num_oov"
      ],
      "execution_count": null,
      "outputs": []
    },
    {
      "cell_type": "code",
      "metadata": {
        "id": "Irm8oGg3ICWV",
        "outputId": "9d98c0e4-02e0-4ad6-e2f0-9fde6bd61227",
        "colab": {
          "base_uri": "https://localhost:8080/",
          "height": 53
        }
      },
      "source": [
        "# train_sentences 처리\n",
        "train_input_ids, num_oov = make_input_ids(train_sentences)\n",
        "\n",
        "print(\"---- TRAIN ----\")\n",
        "print(\"... # OOVs     :\", num_oov)"
      ],
      "execution_count": null,
      "outputs": [
        {
          "output_type": "stream",
          "text": [
            "---- TRAIN ----\n",
            "... # OOVs     : 0\n"
          ],
          "name": "stdout"
        }
      ]
    },
    {
      "cell_type": "code",
      "metadata": {
        "id": "6yFz1GGuxhGY",
        "outputId": "8746caae-13c5-477c-ece4-55db4cf1ca69",
        "colab": {
          "base_uri": "https://localhost:8080/",
          "height": 53
        }
      },
      "source": [
        "# val_sentences 처리\n",
        "val_input_ids, num_oov = make_input_ids(val_sentences)\n",
        "\n",
        "print(\"---- VALIDATION ----\")\n",
        "print(\"... # OOVs     :\", num_oov)"
      ],
      "execution_count": null,
      "outputs": [
        {
          "output_type": "stream",
          "text": [
            "---- VALIDATION ----\n",
            "... # OOVs     : 99\n"
          ],
          "name": "stdout"
        }
      ]
    },
    {
      "cell_type": "code",
      "metadata": {
        "id": "MYs0YXRjIDg3",
        "outputId": "79e2bd84-bdb1-47c3-f5d4-5e51bc997bb9",
        "colab": {
          "base_uri": "https://localhost:8080/",
          "height": 53
        }
      },
      "source": [
        "# test_sentences 처리\n",
        "test_input_ids, num_oov = make_input_ids(test_sentences)\n",
        "\n",
        "print(\"---- TEST ----\")\n",
        "print(\"... # OOVs     :\", num_oov)"
      ],
      "execution_count": null,
      "outputs": [
        {
          "output_type": "stream",
          "text": [
            "---- TEST ----\n",
            "... # OOVs     : 92\n"
          ],
          "name": "stdout"
        }
      ]
    },
    {
      "cell_type": "markdown",
      "metadata": {
        "id": "B7l98rF7c-Er"
      },
      "source": [
        "#### 2-3) 라벨 리스트를 np.array로 변환\n",
        "- TIP: tensorflow2.0에서는 numpy array를 인풋으로 받아들임"
      ]
    },
    {
      "cell_type": "code",
      "metadata": {
        "id": "cuFQFHbj3AQd"
      },
      "source": [
        "train_label_ids = np.array(train_label_ids)\n",
        "val_label_ids = np.array(val_label_ids)\n",
        "test_label_ids = np.array(test_label_ids)"
      ],
      "execution_count": null,
      "outputs": []
    },
    {
      "cell_type": "markdown",
      "metadata": {
        "id": "LhcHsul1IHxj"
      },
      "source": [
        "## Step3. 모델 만들기"
      ]
    },
    {
      "cell_type": "markdown",
      "metadata": {
        "id": "39iPCdwGTjzk"
      },
      "source": [
        "# 실습 MISSION\n",
        "> 아래 조건에 맞는 모델을 만드시오\n",
        " \n",
        "* embedding 차원은 150\n",
        "* LSTM hidden size는 100\n",
        "* Dense의 hidden size는 100, relu activation 사용\n",
        "* output Dense layer에서는 긍/부정 2개 카테고리를 분류하되 softmax 사용"
      ]
    },
    {
      "cell_type": "code",
      "metadata": {
        "id": "vcDr8GlZTqqV",
        "outputId": "55f806fc-1daf-43c0-ed23-0eb25f99e765",
        "colab": {
          "base_uri": "https://localhost:8080/",
          "height": 305
        }
      },
      "source": [
        "vocab_size = len(vocab_dict) \n",
        "\n",
        "model = Sequential([\n",
        "            ####### MISSION 작성 ######\n",
        "            Embedding(vocab_size, 150), \n",
        "            LSTM(100),\n",
        "            Dense(100, activation='relu'),\n",
        "            Dense(2, activation='softmax')\n",
        "            ###########################\n",
        "])  \n",
        "\n",
        "model.summary()"
      ],
      "execution_count": null,
      "outputs": [
        {
          "output_type": "stream",
          "text": [
            "Model: \"sequential_3\"\n",
            "_________________________________________________________________\n",
            "Layer (type)                 Output Shape              Param #   \n",
            "=================================================================\n",
            "embedding_3 (Embedding)      (None, None, 150)         351450    \n",
            "_________________________________________________________________\n",
            "lstm_3 (LSTM)                (None, 100)               100400    \n",
            "_________________________________________________________________\n",
            "dense_6 (Dense)              (None, 100)               10100     \n",
            "_________________________________________________________________\n",
            "dense_7 (Dense)              (None, 2)                 202       \n",
            "=================================================================\n",
            "Total params: 462,152\n",
            "Trainable params: 462,152\n",
            "Non-trainable params: 0\n",
            "_________________________________________________________________\n"
          ],
          "name": "stdout"
        }
      ]
    },
    {
      "cell_type": "markdown",
      "metadata": {
        "id": "7GXrD_dTdTa_"
      },
      "source": [
        "## Step 4. 모델 훈련하기"
      ]
    },
    {
      "cell_type": "markdown",
      "metadata": {
        "id": "IPp_wZ2ddaMG"
      },
      "source": [
        "#### 4-1) <b>model.compile()</b>을 통해 loss, optimizer 지정"
      ]
    },
    {
      "cell_type": "code",
      "metadata": {
        "id": "V3nPJiGW1q92"
      },
      "source": [
        "model.compile(loss='categorical_crossentropy', optimizer='adam', metrics=['accuracy'])"
      ],
      "execution_count": null,
      "outputs": []
    },
    {
      "cell_type": "markdown",
      "metadata": {
        "id": "9wQWmz8Xdi89"
      },
      "source": [
        "#### 4-2) model.fit()을 통해 모델 훈련"
      ]
    },
    {
      "cell_type": "code",
      "metadata": {
        "id": "R6jyqi5cdjJB",
        "outputId": "5818eca4-3001-41bc-a72e-6317084ded22",
        "colab": {
          "base_uri": "https://localhost:8080/",
          "height": 395
        }
      },
      "source": [
        "num_epochs = 10\n",
        "num_batch = 128\n",
        "history = model.fit(train_input_ids, train_label_ids, epochs=num_epochs, batch_size=num_batch, validation_data=(val_input_ids, val_label_ids), verbose=2) \n",
        "\n",
        "test_result = model.evaluate(test_input_ids, test_label_ids, verbose=2)"
      ],
      "execution_count": null,
      "outputs": [
        {
          "output_type": "stream",
          "text": [
            "Epoch 1/10\n",
            "391/391 - 5s - loss: 0.4899 - accuracy: 0.7624 - val_loss: 0.4411 - val_accuracy: 0.7973\n",
            "Epoch 2/10\n",
            "391/391 - 5s - loss: 0.4165 - accuracy: 0.8082 - val_loss: 0.4149 - val_accuracy: 0.8095\n",
            "Epoch 3/10\n",
            "391/391 - 5s - loss: 0.3826 - accuracy: 0.8270 - val_loss: 0.4094 - val_accuracy: 0.8097\n",
            "Epoch 4/10\n",
            "391/391 - 5s - loss: 0.3597 - accuracy: 0.8409 - val_loss: 0.4018 - val_accuracy: 0.8160\n",
            "Epoch 5/10\n",
            "391/391 - 5s - loss: 0.3400 - accuracy: 0.8505 - val_loss: 0.4181 - val_accuracy: 0.8151\n",
            "Epoch 6/10\n",
            "391/391 - 5s - loss: 0.3219 - accuracy: 0.8598 - val_loss: 0.4080 - val_accuracy: 0.8215\n",
            "Epoch 7/10\n",
            "391/391 - 5s - loss: 0.3050 - accuracy: 0.8692 - val_loss: 0.4330 - val_accuracy: 0.8205\n",
            "Epoch 8/10\n",
            "391/391 - 5s - loss: 0.2897 - accuracy: 0.8761 - val_loss: 0.4246 - val_accuracy: 0.8154\n",
            "Epoch 9/10\n",
            "391/391 - 5s - loss: 0.2730 - accuracy: 0.8833 - val_loss: 0.4396 - val_accuracy: 0.8217\n",
            "Epoch 10/10\n",
            "391/391 - 5s - loss: 0.2579 - accuracy: 0.8916 - val_loss: 0.4620 - val_accuracy: 0.8174\n",
            "313/313 - 1s - loss: 0.4622 - accuracy: 0.8104\n"
          ],
          "name": "stdout"
        }
      ]
    },
    {
      "cell_type": "markdown",
      "metadata": {
        "id": "vpO7-KgJxFZI"
      },
      "source": [
        "<font color='purple'>🚴‍♀️<i> while training...</i></font>   \n",
        "<br>\n",
        "<u> keras RNN API 확인하기</u>\n",
        "- https://www.tensorflow.org/guide/keras/rnn\n",
        "- 예) \n",
        "  - LSTM의 모든 timestep의 output을 받아오려면 \n",
        "  - lstm = tf.keras.layers.LSTM(hidden_dim, return_sequences=True)로 설정"
      ]
    },
    {
      "cell_type": "markdown",
      "metadata": {
        "id": "42MnPFs9O3Fr"
      },
      "source": [
        "#### 4-3) 훈련 결과 진단하기\n",
        "<font color=\"red\">QUIZ :   \n",
        "a. 현재 모델에 문제점이 있나요?   \n",
        "b. 문제가 나타나고 있다면 이에 대한 해결 방안을 제시해 보세요. \n",
        "</font>"
      ]
    },
    {
      "cell_type": "code",
      "metadata": {
        "id": "rtaGxpJa4SmM",
        "outputId": "e779607d-1bfd-4d16-910b-2eecd246dfc4",
        "colab": {
          "base_uri": "https://localhost:8080/",
          "height": 544
        }
      },
      "source": [
        "import matplotlib.pyplot as plt\n",
        "\n",
        "def plot_graphs(history, string):\n",
        "  plt.plot(history.history[string])\n",
        "  plt.plot(history.history['val_'+string])\n",
        "  plt.xlabel(\"Epochs\")\n",
        "  plt.ylabel(string)\n",
        "  plt.legend([string, 'val_'+string])\n",
        "  plt.show()\n",
        "  \n",
        "plot_graphs(history, \"accuracy\")\n",
        "plot_graphs(history, \"loss\")"
      ],
      "execution_count": null,
      "outputs": [
        {
          "output_type": "display_data",
          "data": {
            "image/png": "[encoded data removed]",
            "text/plain": [
              "<Figure size 432x288 with 1 Axes>"
            ]
          },
          "metadata": {
            "tags": [],
            "needs_background": "light"
          }
        },
        {
          "output_type": "display_data",
          "data": {
            "image/png": "[encoded data removed]",
            "text/plain": [
              "<Figure size 432x288 with 1 Axes>"
            ]
          },
          "metadata": {
            "tags": [],
            "needs_background": "light"
          }
        }
      ]
    },
    {
      "cell_type": "markdown",
      "metadata": {
        "id": "13AeKZe8JdIn"
      },
      "source": [
        "## Step 5. Inference 실행하기"
      ]
    },
    {
      "cell_type": "code",
      "metadata": {
        "id": "SxopYLQtIkw1"
      },
      "source": [
        "\"\"\" 훈련된 모델로 다시 예측해보기 \"\"\"\n",
        "\n",
        "def inference(mymodel, sentence):\n",
        "  # 1. tokenizer로 문장 파싱\n",
        "  words = tokenize(sentence)\n",
        "  input_id = []\n",
        "\n",
        "  # 2. vocab_dict를 이용해 인덱스로 변환\n",
        "  for word in words:\n",
        "    if word in vocab_dict: input_id.append(vocab_dict[word])\n",
        "    else: input_id.append(vocab_dict[\"[OOV]\"])\n",
        "  \n",
        "  # 단일 문장 추론이기 때문에 패딩할 필요가 없음 \n",
        "  score = mymodel.predict(np.array([input_id])) \n",
        "\n",
        "  print(\"** INPUT:\", sentence)\n",
        "  print(\"   -> 부정: {:.2f} / 긍정: {:.2f}\".format(score[0][0],score[0][1]))"
      ],
      "execution_count": null,
      "outputs": []
    },
    {
      "cell_type": "code",
      "metadata": {
        "id": "nm172c7-YmBw",
        "outputId": "5abdaee5-d6ee-4a88-959b-b9479f648250",
        "colab": {
          "base_uri": "https://localhost:8080/",
          "height": 89
        }
      },
      "source": [
        "sentence1 = \"시간 가는 줄 알고 봤습니다.\"\n",
        "sentence2 = \"안보면 후회ㅠㅠ...\"\n",
        "inference(model, sentence1)\n",
        "inference(model, sentence2)"
      ],
      "execution_count": null,
      "outputs": [
        {
          "output_type": "stream",
          "text": [
            "** INPUT: 시간 가는 줄 알고 봤습니다.\n",
            "   -> 부정: 0.12 / 긍정: 0.88\n",
            "** INPUT: 안보면 후회ㅠㅠ...\n",
            "   -> 부정: 0.37 / 긍정: 0.63\n"
          ],
          "name": "stdout"
        }
      ]
    },
    {
      "cell_type": "code",
      "metadata": {
        "id": "mi_fIiVC4k8g",
        "outputId": "0eff290f-c5b9-44e5-b41d-5d803c0e44f9",
        "colab": {
          "base_uri": "https://localhost:8080/",
          "height": 125
        }
      },
      "source": [
        "# 원하는 문장에 대해 추론해 보세요\n",
        "inference(model, \"이런 망작을 나 혼자만 보기엔 아깝지\")\n",
        "inference(model, \"이런 꿀잼을 나 혼자만 보기엔 아깝지\")\n",
        "inference(model, \"꿀잠 잤습니다\")"
      ],
      "execution_count": null,
      "outputs": [
        {
          "output_type": "stream",
          "text": [
            "** INPUT: 이런 망작을 나 혼자만 보기엔 아깝지\n",
            "   -> 부정: 1.00 / 긍정: 0.00\n",
            "** INPUT: 이런 꿀잼을 나 혼자만 보기엔 아깝지\n",
            "   -> 부정: 0.82 / 긍정: 0.18\n",
            "** INPUT: 꿀잠 잤습니다\n",
            "   -> 부정: 0.89 / 긍정: 0.11\n"
          ],
          "name": "stdout"
        }
      ]
    },
    {
      "cell_type": "markdown",
      "metadata": {
        "id": "I_NVAg9E7F3c"
      },
      "source": [
        "# # 3. 나만의 모델 만들어보기 "
      ]
    },
    {
      "cell_type": "markdown",
      "metadata": {
        "id": "cMo6UCv78uGz"
      },
      "source": [
        "# 실습 MISSION\n",
        ">  LSTM, Dense layer 등을 자유롭게 활용해서 자신만의 모델을 만들고 \n",
        "이후 TEST 데이터에 대해 최종 성능을 비교해보세요\n",
        "</font>\n",
        " "
      ]
    },
    {
      "cell_type": "code",
      "metadata": {
        "id": "-EJxGxXl4MJF",
        "cellView": "both",
        "outputId": "03c7ae6b-5b10-4499-afec-9d03788acc8d",
        "colab": {
          "base_uri": "https://localhost:8080/",
          "height": 269
        }
      },
      "source": [
        "tf.keras.backend.clear_session() \n",
        "\n",
        "# 1. 모델 구현하기\n",
        "model2 = tf.keras.Sequential([\n",
        "      # MISSION 작성 #\n",
        "      Embedding(len(vocab_dict), 500),\n",
        "      LSTM(1000),\n",
        "      Dense(500, activation='relu'),\n",
        "      Dense(500, activation='relu'),\n",
        "      Dense(2, activation='softmax')\n",
        "      ################                 \n",
        "]) \n",
        "\n",
        "\n",
        "# 2. optimizer, loss 선택하기\n",
        "model2.compile(loss='categorical_crossentropy', optimizer='adam', metrics=['accuracy'])\n",
        "\n",
        "# 3. 모델 훈련하기 (원하는대로 조정해보세요!)\n",
        "num_epochs = 200\n",
        "num_batch = 256\n",
        "\n",
        "# Early_stopping\n",
        "early_stop = tf.keras.callbacks.EarlyStopping(monitor='val_accuracy', patience = 3)\n",
        "history = model2.fit(train_input_ids, train_label_ids, epochs=num_epochs, batch_size=num_batch, validation_data=(val_input_ids, val_label_ids), callbacks=[early_stop], verbose=2)"
      ],
      "execution_count": null,
      "outputs": [
        {
          "output_type": "stream",
          "text": [
            "Epoch 1/200\n",
            "196/196 - 21s - loss: 0.5243 - accuracy: 0.7404 - val_loss: 0.4544 - val_accuracy: 0.7890\n",
            "Epoch 2/200\n",
            "196/196 - 20s - loss: 0.4286 - accuracy: 0.8028 - val_loss: 0.4220 - val_accuracy: 0.8062\n",
            "Epoch 3/200\n",
            "196/196 - 20s - loss: 0.3900 - accuracy: 0.8247 - val_loss: 0.4126 - val_accuracy: 0.8083\n",
            "Epoch 4/200\n",
            "196/196 - 20s - loss: 0.3591 - accuracy: 0.8408 - val_loss: 0.3973 - val_accuracy: 0.8187\n",
            "Epoch 5/200\n",
            "196/196 - 20s - loss: 0.3355 - accuracy: 0.8544 - val_loss: 0.4065 - val_accuracy: 0.8169\n",
            "Epoch 6/200\n",
            "196/196 - 20s - loss: 0.3171 - accuracy: 0.8633 - val_loss: 0.4191 - val_accuracy: 0.8168\n",
            "Epoch 7/200\n",
            "196/196 - 20s - loss: 0.2944 - accuracy: 0.8737 - val_loss: 0.4269 - val_accuracy: 0.8173\n"
          ],
          "name": "stdout"
        }
      ]
    },
    {
      "cell_type": "code",
      "metadata": {
        "id": "JhibjqAt69vc",
        "outputId": "4f7aba5f-8562-4000-fa67-d8d45f495992",
        "colab": {
          "base_uri": "https://localhost:8080/",
          "height": 545
        }
      },
      "source": [
        "# 4. 모델 진단하기\n",
        "\n",
        "plot_graphs(history, \"accuracy\")\n",
        "plot_graphs(history, \"loss\")"
      ],
      "execution_count": null,
      "outputs": [
        {
          "output_type": "display_data",
          "data": {
            "image/png": "[encoded data removed]",
            "text/plain": [
              "<Figure size 432x288 with 1 Axes>"
            ]
          },
          "metadata": {
            "tags": [],
            "needs_background": "light"
          }
        },
        {
          "output_type": "display_data",
          "data": {
            "image/png": "[encoded data removed]",
            "text/plain": [
              "<Figure size 432x288 with 1 Axes>"
            ]
          },
          "metadata": {
            "tags": [],
            "needs_background": "light"
          }
        }
      ]
    },
    {
      "cell_type": "code",
      "metadata": {
        "id": "zrmDzbNJ7DfC",
        "outputId": "d9eeb595-c590-462e-8f88-226bcaebae4c",
        "colab": {
          "base_uri": "https://localhost:8080/",
          "height": 53
        }
      },
      "source": [
        "# 5. 테스트 데이터에 대해 평가하기\n",
        "\n",
        "model2.evaluate(test_input_ids, test_label_ids, verbose=2)"
      ],
      "execution_count": null,
      "outputs": [
        {
          "output_type": "stream",
          "text": [
            "313/313 - 3s - loss: 0.4347 - accuracy: 0.8097\n"
          ],
          "name": "stdout"
        },
        {
          "output_type": "execute_result",
          "data": {
            "text/plain": [
              "[0.434659481048584, 0.8097000122070312]"
            ]
          },
          "metadata": {
            "tags": []
          },
          "execution_count": 61
        }
      ]
    },
    {
      "cell_type": "code",
      "metadata": {
        "id": "D2HnsxdPgRUf",
        "outputId": "e89ed8e6-d979-4b3e-8a37-71769fe5189f",
        "colab": {
          "base_uri": "https://localhost:8080/",
          "height": 379
        }
      },
      "source": [
        "# 샘플 예제에 대해 추론해 보세요 \n",
        "\n",
        "inference(model2, \"물이 반도 안남았다\")  #부정\n",
        "inference(model2, \"물이 반이나 남았다\")  #긍정\n",
        "inference(model2, \"죄송하지만 혹시 실례가 안된다면 꺼져주실수 있으신지ㅎㅎ?\") #부정\n",
        "inference(model2, \"잘하는 짓이다\") #부정\n",
        "inference(model2, \"가게 외관은 구린데 맛은 ㅇㅈ\") #긍정\n",
        "inference(model2, \"ㄷㄷ 간만에 갓띵작 ㄷㄷㄷ\") #긍정\n",
        "inference(model2, \"주인공 커여워 ㅠㅠ\") #긍정\n",
        "inference(model2, \"OTL\") #부정\n"
      ],
      "execution_count": null,
      "outputs": [
        {
          "output_type": "stream",
          "text": [
            "WARNING:tensorflow:5 out of the last 14 calls to <function Model.make_predict_function.<locals>.predict_function at 0x7f3d2e1a2158> triggered tf.function retracing. Tracing is expensive and the excessive number of tracings could be due to (1) creating @tf.function repeatedly in a loop, (2) passing tensors with different shapes, (3) passing Python objects instead of tensors. For (1), please define your @tf.function outside of the loop. For (2), @tf.function has experimental_relax_shapes=True option that relaxes argument shapes that can avoid unnecessary retracing. For (3), please refer to https://www.tensorflow.org/tutorials/customization/performance#python_or_tensor_args and https://www.tensorflow.org/api_docs/python/tf/function for  more details.\n",
            "** INPUT: 물이 반도 안남았다\n",
            "   -> 부정: 0.92 / 긍정: 0.08\n",
            "** INPUT: 물이 반이나 남았다\n",
            "   -> 부정: 0.50 / 긍정: 0.50\n",
            "WARNING:tensorflow:5 out of the last 11 calls to <function Model.make_predict_function.<locals>.predict_function at 0x7f3d2e1a2158> triggered tf.function retracing. Tracing is expensive and the excessive number of tracings could be due to (1) creating @tf.function repeatedly in a loop, (2) passing tensors with different shapes, (3) passing Python objects instead of tensors. For (1), please define your @tf.function outside of the loop. For (2), @tf.function has experimental_relax_shapes=True option that relaxes argument shapes that can avoid unnecessary retracing. For (3), please refer to https://www.tensorflow.org/tutorials/customization/performance#python_or_tensor_args and https://www.tensorflow.org/api_docs/python/tf/function for  more details.\n",
            "** INPUT: 죄송하지만 혹시 실례가 안된다면 꺼져주실수 있으신지ㅎㅎ?\n",
            "   -> 부정: 0.66 / 긍정: 0.34\n",
            "WARNING:tensorflow:6 out of the last 12 calls to <function Model.make_predict_function.<locals>.predict_function at 0x7f3d2e1a2158> triggered tf.function retracing. Tracing is expensive and the excessive number of tracings could be due to (1) creating @tf.function repeatedly in a loop, (2) passing tensors with different shapes, (3) passing Python objects instead of tensors. For (1), please define your @tf.function outside of the loop. For (2), @tf.function has experimental_relax_shapes=True option that relaxes argument shapes that can avoid unnecessary retracing. For (3), please refer to https://www.tensorflow.org/tutorials/customization/performance#python_or_tensor_args and https://www.tensorflow.org/api_docs/python/tf/function for  more details.\n",
            "** INPUT: 잘하는 짓이다\n",
            "   -> 부정: 0.49 / 긍정: 0.51\n",
            "** INPUT: 가게 외관은 구린데 맛은 ㅇㅈ\n",
            "   -> 부정: 0.84 / 긍정: 0.16\n",
            "** INPUT: ㄷㄷ 간만에 갓띵작 ㄷㄷㄷ\n",
            "   -> 부정: 0.21 / 긍정: 0.79\n",
            "** INPUT: 주인공 커여워 ㅠㅠ\n",
            "   -> 부정: 0.52 / 긍정: 0.48\n",
            "** INPUT: OTL\n",
            "   -> 부정: 0.61 / 긍정: 0.39\n"
          ],
          "name": "stdout"
        }
      ]
    },
    {
      "cell_type": "code",
      "metadata": {
        "id": "1Y_E831p2KJ8"
      },
      "source": [
        ""
      ],
      "execution_count": null,
      "outputs": []
    }
  ]
}